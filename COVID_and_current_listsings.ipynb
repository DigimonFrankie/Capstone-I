{
 "cells": [
  {
   "cell_type": "code",
   "execution_count": 3,
   "metadata": {},
   "outputs": [],
   "source": [
    "import pandas as pd\n",
    "import numpy as np\n",
    "import matplotlib.pyplot as plt\n",
    "import seaborn as sns\n",
    "import json\n",
    "import requests"
   ]
  },
  {
   "cell_type": "code",
   "execution_count": 2,
   "metadata": {},
   "outputs": [],
   "source": [
    "# Updated Housing DF\n",
    "re_df = pd.read_csv('./update_df.csv')"
   ]
  },
  {
   "cell_type": "code",
   "execution_count": 28,
   "metadata": {},
   "outputs": [],
   "source": [
    "# Hospitalizations by zip\n",
    "url = 'https://phl.carto.com/api/v2/sql?q=SELECT * FROM covid_hospitalizations_by_zip'\n",
    "response = requests.request(\"GET\", url)\n",
    "hosp_zip = pd.json_normalize(response.json()['rows'])"
   ]
  },
  {
   "cell_type": "code",
   "execution_count": 29,
   "metadata": {},
   "outputs": [],
   "source": [
    "# Deaths by zip\n",
    "url = 'https://phl.carto.com/api/v2/sql?q=SELECT * FROM covid_deaths_by_zip'\n",
    "response = requests.request(\"GET\", url)\n",
    "death_zip = pd.json_normalize(response.json()['rows'])"
   ]
  },
  {
   "cell_type": "code",
   "execution_count": 30,
   "metadata": {},
   "outputs": [],
   "source": [
    "# Tests by zip\n",
    "url = 'https://phl.carto.com/api/v2/sql?q=SELECT * FROM covid_cases_by_zip'\n",
    "response = requests.request(\"GET\", url)\n",
    "test_zip = pd.json_normalize(response.json()['rows'])"
   ]
  },
  {
   "cell_type": "code",
   "execution_count": 99,
   "metadata": {},
   "outputs": [
    {
     "data": {
      "text/html": [
       "<div>\n",
       "<style scoped>\n",
       "    .dataframe tbody tr th:only-of-type {\n",
       "        vertical-align: middle;\n",
       "    }\n",
       "\n",
       "    .dataframe tbody tr th {\n",
       "        vertical-align: top;\n",
       "    }\n",
       "\n",
       "    .dataframe thead th {\n",
       "        text-align: right;\n",
       "    }\n",
       "</style>\n",
       "<table border=\"1\" class=\"dataframe\">\n",
       "  <thead>\n",
       "    <tr style=\"text-align: right;\">\n",
       "      <th></th>\n",
       "      <th>property_id</th>\n",
       "      <th>prop_type</th>\n",
       "      <th>prop_sub_type</th>\n",
       "      <th>prop_status</th>\n",
       "      <th>price</th>\n",
       "      <th>baths_full</th>\n",
       "      <th>baths</th>\n",
       "      <th>beds</th>\n",
       "      <th>last_update</th>\n",
       "      <th>photo_count</th>\n",
       "      <th>...</th>\n",
       "      <th>state_code</th>\n",
       "      <th>county</th>\n",
       "      <th>lat</th>\n",
       "      <th>lon</th>\n",
       "      <th>neighborhood_name</th>\n",
       "      <th>buiding_size(sqft)</th>\n",
       "      <th>lot_size(sqft)</th>\n",
       "      <th>agent_id</th>\n",
       "      <th>agent_name</th>\n",
       "      <th>brand_name</th>\n",
       "    </tr>\n",
       "  </thead>\n",
       "  <tbody>\n",
       "    <tr>\n",
       "      <th>0</th>\n",
       "      <td>M4046594895</td>\n",
       "      <td>condo</td>\n",
       "      <td>duplex_triplex</td>\n",
       "      <td>for_sale</td>\n",
       "      <td>249900</td>\n",
       "      <td>3.0</td>\n",
       "      <td>3</td>\n",
       "      <td>6.0</td>\n",
       "      <td>2020-10-13T17:54:05Z</td>\n",
       "      <td>9</td>\n",
       "      <td>...</td>\n",
       "      <td>PA</td>\n",
       "      <td>Philadelphia</td>\n",
       "      <td>39.974408</td>\n",
       "      <td>-75.243700</td>\n",
       "      <td>West Philadelphia</td>\n",
       "      <td>1632.0</td>\n",
       "      <td>1842.0</td>\n",
       "      <td>1291281.0</td>\n",
       "      <td>Ausra Anusauskas</td>\n",
       "      <td>Archstone Realty</td>\n",
       "    </tr>\n",
       "    <tr>\n",
       "      <th>1</th>\n",
       "      <td>M3939384476</td>\n",
       "      <td>condo</td>\n",
       "      <td>townhomes</td>\n",
       "      <td>for_sale</td>\n",
       "      <td>116800</td>\n",
       "      <td>1.0</td>\n",
       "      <td>1</td>\n",
       "      <td>3.0</td>\n",
       "      <td>2020-10-13T18:18:18Z</td>\n",
       "      <td>7</td>\n",
       "      <td>...</td>\n",
       "      <td>PA</td>\n",
       "      <td>Philadelphia</td>\n",
       "      <td>39.926283</td>\n",
       "      <td>-75.225382</td>\n",
       "      <td>Southwest Philadelphia</td>\n",
       "      <td>1092.0</td>\n",
       "      <td>992.0</td>\n",
       "      <td>347285.0</td>\n",
       "      <td>Dr Hanh Vo</td>\n",
       "      <td>Vihi Realty</td>\n",
       "    </tr>\n",
       "    <tr>\n",
       "      <th>2</th>\n",
       "      <td>M4036371277</td>\n",
       "      <td>condo</td>\n",
       "      <td>townhomes</td>\n",
       "      <td>for_sale</td>\n",
       "      <td>215000</td>\n",
       "      <td>1.0</td>\n",
       "      <td>2</td>\n",
       "      <td>3.0</td>\n",
       "      <td>2020-10-13T17:24:20Z</td>\n",
       "      <td>35</td>\n",
       "      <td>...</td>\n",
       "      <td>PA</td>\n",
       "      <td>Philadelphia</td>\n",
       "      <td>40.039721</td>\n",
       "      <td>-75.142100</td>\n",
       "      <td>Upper North District</td>\n",
       "      <td>1360.0</td>\n",
       "      <td>1501.0</td>\n",
       "      <td>NaN</td>\n",
       "      <td>Kevin Chen</td>\n",
       "      <td>Premium Realty Castor Inc</td>\n",
       "    </tr>\n",
       "    <tr>\n",
       "      <th>3</th>\n",
       "      <td>M3553029343</td>\n",
       "      <td>single_family</td>\n",
       "      <td>NaN</td>\n",
       "      <td>for_sale</td>\n",
       "      <td>394800</td>\n",
       "      <td>1.0</td>\n",
       "      <td>2</td>\n",
       "      <td>3.0</td>\n",
       "      <td>2020-10-13T17:11:54Z</td>\n",
       "      <td>123</td>\n",
       "      <td>...</td>\n",
       "      <td>PA</td>\n",
       "      <td>Philadelphia</td>\n",
       "      <td>40.071978</td>\n",
       "      <td>-75.073303</td>\n",
       "      <td>Near Northeast Philadelphia</td>\n",
       "      <td>1856.0</td>\n",
       "      <td>15913.0</td>\n",
       "      <td>4759.0</td>\n",
       "      <td>Carol Mallen</td>\n",
       "      <td>Re/Max Services</td>\n",
       "    </tr>\n",
       "    <tr>\n",
       "      <th>4</th>\n",
       "      <td>M3649199107</td>\n",
       "      <td>condo</td>\n",
       "      <td>townhomes</td>\n",
       "      <td>for_sale</td>\n",
       "      <td>130000</td>\n",
       "      <td>1.0</td>\n",
       "      <td>2</td>\n",
       "      <td>3.0</td>\n",
       "      <td>2020-10-13T17:02:13Z</td>\n",
       "      <td>33</td>\n",
       "      <td>...</td>\n",
       "      <td>PA</td>\n",
       "      <td>Philadelphia</td>\n",
       "      <td>40.012784</td>\n",
       "      <td>-75.156405</td>\n",
       "      <td>Upper North Philadelphia</td>\n",
       "      <td>1180.0</td>\n",
       "      <td>1240.0</td>\n",
       "      <td>391546.0</td>\n",
       "      <td>Maria Quattrone CEO</td>\n",
       "      <td>Re/Max @ Home - Philadelphia</td>\n",
       "    </tr>\n",
       "  </tbody>\n",
       "</table>\n",
       "<p>5 rows × 26 columns</p>\n",
       "</div>"
      ],
      "text/plain": [
       "   property_id      prop_type   prop_sub_type prop_status   price  baths_full  \\\n",
       "0  M4046594895          condo  duplex_triplex    for_sale  249900         3.0   \n",
       "1  M3939384476          condo       townhomes    for_sale  116800         1.0   \n",
       "2  M4036371277          condo       townhomes    for_sale  215000         1.0   \n",
       "3  M3553029343  single_family             NaN    for_sale  394800         1.0   \n",
       "4  M3649199107          condo       townhomes    for_sale  130000         1.0   \n",
       "\n",
       "   baths  beds           last_update  photo_count  ...  state_code  \\\n",
       "0      3   6.0  2020-10-13T17:54:05Z            9  ...          PA   \n",
       "1      1   3.0  2020-10-13T18:18:18Z            7  ...          PA   \n",
       "2      2   3.0  2020-10-13T17:24:20Z           35  ...          PA   \n",
       "3      2   3.0  2020-10-13T17:11:54Z          123  ...          PA   \n",
       "4      2   3.0  2020-10-13T17:02:13Z           33  ...          PA   \n",
       "\n",
       "         county        lat        lon            neighborhood_name  \\\n",
       "0  Philadelphia  39.974408 -75.243700            West Philadelphia   \n",
       "1  Philadelphia  39.926283 -75.225382       Southwest Philadelphia   \n",
       "2  Philadelphia  40.039721 -75.142100         Upper North District   \n",
       "3  Philadelphia  40.071978 -75.073303  Near Northeast Philadelphia   \n",
       "4  Philadelphia  40.012784 -75.156405     Upper North Philadelphia   \n",
       "\n",
       "   buiding_size(sqft) lot_size(sqft)   agent_id           agent_name  \\\n",
       "0              1632.0         1842.0  1291281.0     Ausra Anusauskas   \n",
       "1              1092.0          992.0   347285.0           Dr Hanh Vo   \n",
       "2              1360.0         1501.0        NaN           Kevin Chen   \n",
       "3              1856.0        15913.0     4759.0         Carol Mallen   \n",
       "4              1180.0         1240.0   391546.0  Maria Quattrone CEO   \n",
       "\n",
       "                     brand_name  \n",
       "0              Archstone Realty  \n",
       "1                   Vihi Realty  \n",
       "2     Premium Realty Castor Inc  \n",
       "3               Re/Max Services  \n",
       "4  Re/Max @ Home - Philadelphia  \n",
       "\n",
       "[5 rows x 26 columns]"
      ]
     },
     "execution_count": 99,
     "metadata": {},
     "output_type": "execute_result"
    }
   ],
   "source": [
    "re_df.head()"
   ]
  },
  {
   "cell_type": "code",
   "execution_count": 407,
   "metadata": {},
   "outputs": [
    {
     "name": "stdout",
     "output_type": "stream",
     "text": [
      "<class 'pandas.core.frame.DataFrame'>\n",
      "RangeIndex: 9562 entries, 0 to 9561\n",
      "Data columns (total 26 columns):\n",
      " #   Column              Non-Null Count  Dtype  \n",
      "---  ------              --------------  -----  \n",
      " 0   property_id         9562 non-null   object \n",
      " 1   prop_type           9562 non-null   object \n",
      " 2   prop_sub_type       7050 non-null   object \n",
      " 3   prop_status         9562 non-null   object \n",
      " 4   price               9562 non-null   int64  \n",
      " 5   baths_full          7802 non-null   float64\n",
      " 6   baths               9562 non-null   int64  \n",
      " 7   beds                8380 non-null   float64\n",
      " 8   last_update         9562 non-null   object \n",
      " 9   photo_count         9562 non-null   int64  \n",
      " 10  page_no             9562 non-null   int64  \n",
      " 11  rank                9562 non-null   int64  \n",
      " 12  baths_half          3394 non-null   float64\n",
      " 13  city                9562 non-null   object \n",
      " 14  line                9553 non-null   object \n",
      " 15  postal_code         9562 non-null   int64  \n",
      " 16  state_code          9562 non-null   object \n",
      " 17  county              9562 non-null   object \n",
      " 18  lat                 9562 non-null   float64\n",
      " 19  lon                 9562 non-null   float64\n",
      " 20  neighborhood_name   9554 non-null   object \n",
      " 21  buiding_size(sqft)  8181 non-null   float64\n",
      " 22  lot_size(sqft)      7875 non-null   float64\n",
      " 23  agent_id            8576 non-null   float64\n",
      " 24  agent_name          9378 non-null   object \n",
      " 25  brand_name          9482 non-null   object \n",
      "dtypes: float64(8), int64(6), object(12)\n",
      "memory usage: 1.9+ MB\n"
     ]
    }
   ],
   "source": [
    "re_df.info()"
   ]
  },
  {
   "cell_type": "code",
   "execution_count": 342,
   "metadata": {},
   "outputs": [],
   "source": [
    "# Make a zip code median_price DF\n",
    "price_median_by_zip = re_df.groupby('postal_code')['price'].median().rename_axis('zip_code').reset_index(name='median_price').sort_values('median_price', ascending=False)\n",
    "price_median_by_zip.reset_index(drop=True, inplace=True)"
   ]
  },
  {
   "cell_type": "code",
   "execution_count": 343,
   "metadata": {},
   "outputs": [
    {
     "data": {
      "text/html": [
       "<div>\n",
       "<style scoped>\n",
       "    .dataframe tbody tr th:only-of-type {\n",
       "        vertical-align: middle;\n",
       "    }\n",
       "\n",
       "    .dataframe tbody tr th {\n",
       "        vertical-align: top;\n",
       "    }\n",
       "\n",
       "    .dataframe thead th {\n",
       "        text-align: right;\n",
       "    }\n",
       "</style>\n",
       "<table border=\"1\" class=\"dataframe\">\n",
       "  <thead>\n",
       "    <tr style=\"text-align: right;\">\n",
       "      <th></th>\n",
       "      <th>zip_code</th>\n",
       "      <th>median_price</th>\n",
       "    </tr>\n",
       "  </thead>\n",
       "  <tbody>\n",
       "    <tr>\n",
       "      <th>0</th>\n",
       "      <td>19118</td>\n",
       "      <td>860000.0</td>\n",
       "    </tr>\n",
       "    <tr>\n",
       "      <th>1</th>\n",
       "      <td>19102</td>\n",
       "      <td>670000.0</td>\n",
       "    </tr>\n",
       "    <tr>\n",
       "      <th>2</th>\n",
       "      <td>19103</td>\n",
       "      <td>599900.0</td>\n",
       "    </tr>\n",
       "    <tr>\n",
       "      <th>3</th>\n",
       "      <td>19106</td>\n",
       "      <td>575000.0</td>\n",
       "    </tr>\n",
       "    <tr>\n",
       "      <th>4</th>\n",
       "      <td>19147</td>\n",
       "      <td>525000.0</td>\n",
       "    </tr>\n",
       "  </tbody>\n",
       "</table>\n",
       "</div>"
      ],
      "text/plain": [
       "   zip_code  median_price\n",
       "0     19118      860000.0\n",
       "1     19102      670000.0\n",
       "2     19103      599900.0\n",
       "3     19106      575000.0\n",
       "4     19147      525000.0"
      ]
     },
     "execution_count": 343,
     "metadata": {},
     "output_type": "execute_result"
    }
   ],
   "source": [
    "price_median_by_zip.head()"
   ]
  },
  {
   "cell_type": "code",
   "execution_count": 344,
   "metadata": {},
   "outputs": [
    {
     "data": {
      "text/html": [
       "<div>\n",
       "<style scoped>\n",
       "    .dataframe tbody tr th:only-of-type {\n",
       "        vertical-align: middle;\n",
       "    }\n",
       "\n",
       "    .dataframe tbody tr th {\n",
       "        vertical-align: top;\n",
       "    }\n",
       "\n",
       "    .dataframe thead th {\n",
       "        text-align: right;\n",
       "    }\n",
       "</style>\n",
       "<table border=\"1\" class=\"dataframe\">\n",
       "  <thead>\n",
       "    <tr style=\"text-align: right;\">\n",
       "      <th></th>\n",
       "      <th>zip_code</th>\n",
       "      <th>median_price</th>\n",
       "    </tr>\n",
       "  </thead>\n",
       "  <tbody>\n",
       "    <tr>\n",
       "      <th>41</th>\n",
       "      <td>19139</td>\n",
       "      <td>127450.0</td>\n",
       "    </tr>\n",
       "    <tr>\n",
       "      <th>42</th>\n",
       "      <td>19142</td>\n",
       "      <td>115000.0</td>\n",
       "    </tr>\n",
       "    <tr>\n",
       "      <th>43</th>\n",
       "      <td>19140</td>\n",
       "      <td>80000.0</td>\n",
       "    </tr>\n",
       "    <tr>\n",
       "      <th>44</th>\n",
       "      <td>19133</td>\n",
       "      <td>52500.0</td>\n",
       "    </tr>\n",
       "    <tr>\n",
       "      <th>45</th>\n",
       "      <td>19132</td>\n",
       "      <td>50000.0</td>\n",
       "    </tr>\n",
       "  </tbody>\n",
       "</table>\n",
       "</div>"
      ],
      "text/plain": [
       "    zip_code  median_price\n",
       "41     19139      127450.0\n",
       "42     19142      115000.0\n",
       "43     19140       80000.0\n",
       "44     19133       52500.0\n",
       "45     19132       50000.0"
      ]
     },
     "execution_count": 344,
     "metadata": {},
     "output_type": "execute_result"
    }
   ],
   "source": [
    "price_median_by_zip.tail()"
   ]
  },
  {
   "cell_type": "code",
   "execution_count": 388,
   "metadata": {},
   "outputs": [
    {
     "data": {
      "image/png": "[encoded data removed]",
      "text/plain": [
       "<Figure size 864x576 with 1 Axes>"
      ]
     },
     "metadata": {
      "needs_background": "light"
     },
     "output_type": "display_data"
    }
   ],
   "source": [
    "# Median listing price by zip code\n",
    "plt.subplots(figsize=(12,8))\n",
    "price_median_by_zip_plot = sns.barplot(x='zip_code', y='median_price', data=price_median_by_zip,\n",
    "                             order=price_median_by_zip.sort_values('median_price', ascending=False)['zip_code'])\n",
    "price_median_by_zip_plot.set_xticklabels(price_median_by_zip['zip_code'],rotation=90)\n",
    "plt.title('Median Listing Price by Zip Code')\n",
    "plt.show()"
   ]
  },
  {
   "cell_type": "markdown",
   "metadata": {},
   "source": [
    "## Hospitalizations by Zip"
   ]
  },
  {
   "cell_type": "code",
   "execution_count": 305,
   "metadata": {},
   "outputs": [
    {
     "data": {
      "text/html": [
       "<div>\n",
       "<style scoped>\n",
       "    .dataframe tbody tr th:only-of-type {\n",
       "        vertical-align: middle;\n",
       "    }\n",
       "\n",
       "    .dataframe tbody tr th {\n",
       "        vertical-align: top;\n",
       "    }\n",
       "\n",
       "    .dataframe thead th {\n",
       "        text-align: right;\n",
       "    }\n",
       "</style>\n",
       "<table border=\"1\" class=\"dataframe\">\n",
       "  <thead>\n",
       "    <tr style=\"text-align: right;\">\n",
       "      <th></th>\n",
       "      <th>cartodb_id</th>\n",
       "      <th>the_geom</th>\n",
       "      <th>the_geom_webmercator</th>\n",
       "      <th>zip_code</th>\n",
       "      <th>hospitalized</th>\n",
       "      <th>count</th>\n",
       "      <th>etl_timestamp</th>\n",
       "    </tr>\n",
       "  </thead>\n",
       "  <tbody>\n",
       "    <tr>\n",
       "      <th>0</th>\n",
       "      <td>1</td>\n",
       "      <td>None</td>\n",
       "      <td>None</td>\n",
       "      <td>19124</td>\n",
       "      <td>Yes</td>\n",
       "      <td>271</td>\n",
       "      <td>2020-10-24T17:20:02Z</td>\n",
       "    </tr>\n",
       "    <tr>\n",
       "      <th>1</th>\n",
       "      <td>2</td>\n",
       "      <td>None</td>\n",
       "      <td>None</td>\n",
       "      <td>19105</td>\n",
       "      <td>No_or_Unk</td>\n",
       "      <td>5</td>\n",
       "      <td>2020-10-24T17:20:02Z</td>\n",
       "    </tr>\n",
       "    <tr>\n",
       "      <th>2</th>\n",
       "      <td>3</td>\n",
       "      <td>None</td>\n",
       "      <td>None</td>\n",
       "      <td>19135</td>\n",
       "      <td>No_or_Unk</td>\n",
       "      <td>754</td>\n",
       "      <td>2020-10-24T17:20:02Z</td>\n",
       "    </tr>\n",
       "    <tr>\n",
       "      <th>3</th>\n",
       "      <td>4</td>\n",
       "      <td>None</td>\n",
       "      <td>None</td>\n",
       "      <td>19116</td>\n",
       "      <td>No_or_Unk</td>\n",
       "      <td>879</td>\n",
       "      <td>2020-10-24T17:20:02Z</td>\n",
       "    </tr>\n",
       "    <tr>\n",
       "      <th>4</th>\n",
       "      <td>5</td>\n",
       "      <td>None</td>\n",
       "      <td>None</td>\n",
       "      <td>19111</td>\n",
       "      <td>Yes</td>\n",
       "      <td>268</td>\n",
       "      <td>2020-10-24T17:20:02Z</td>\n",
       "    </tr>\n",
       "  </tbody>\n",
       "</table>\n",
       "</div>"
      ],
      "text/plain": [
       "   cartodb_id the_geom the_geom_webmercator  zip_code hospitalized  count  \\\n",
       "0           1     None                 None     19124          Yes    271   \n",
       "1           2     None                 None     19105    No_or_Unk      5   \n",
       "2           3     None                 None     19135    No_or_Unk    754   \n",
       "3           4     None                 None     19116    No_or_Unk    879   \n",
       "4           5     None                 None     19111          Yes    268   \n",
       "\n",
       "          etl_timestamp  \n",
       "0  2020-10-24T17:20:02Z  \n",
       "1  2020-10-24T17:20:02Z  \n",
       "2  2020-10-24T17:20:02Z  \n",
       "3  2020-10-24T17:20:02Z  \n",
       "4  2020-10-24T17:20:02Z  "
      ]
     },
     "execution_count": 305,
     "metadata": {},
     "output_type": "execute_result"
    }
   ],
   "source": [
    "hosp_zip.head()"
   ]
  },
  {
   "cell_type": "code",
   "execution_count": 32,
   "metadata": {},
   "outputs": [],
   "source": [
    "# Make 'NO_UNKNOWN' more presentable and consistent with other responses\n",
    "hosp_zip.loc[hosp_zip['hospitalized'] == 'NO_UNKNOWN', ['hospitalized']] = 'No_or_Unk'"
   ]
  },
  {
   "cell_type": "code",
   "execution_count": 317,
   "metadata": {},
   "outputs": [
    {
     "data": {
      "image/png": "[encoded data removed]",
      "text/plain": [
       "<Figure size 1169.12x432 with 1 Axes>"
      ]
     },
     "metadata": {
      "needs_background": "light"
     },
     "output_type": "display_data"
    }
   ],
   "source": [
    "# Plot of hospitalizations by zip, whether hospitalized or not\n",
    "hosp_zip_plot = sns.catplot(x = \"zip_code\", y = \"count\", hue = \"hospitalized\", data=hosp_zip,kind = \"bar\", height=6, aspect=2.5)\n",
    "hosp_zip_plot.fig.suptitle('Hospitalizations by Zip')\n",
    "hosp_zip_plot.set_xticklabels(rotation=90)\n",
    "plt.show()"
   ]
  },
  {
   "cell_type": "code",
   "execution_count": 244,
   "metadata": {},
   "outputs": [],
   "source": [
    "# Convert 'zip_code' to int64 for merging\n",
    "hosp_zip['zip_code'] = hosp_zip['zip_code'].astype(int)"
   ]
  },
  {
   "cell_type": "markdown",
   "metadata": {},
   "source": [
    "Build a dataframe for hospitalization rate by zip code"
   ]
  },
  {
   "cell_type": "code",
   "execution_count": 307,
   "metadata": {},
   "outputs": [],
   "source": [
    "hosp_rate_df = pd.DataFrame(hosp_zip.groupby(['zip_code'], as_index=False)['count'].sum())"
   ]
  },
  {
   "cell_type": "code",
   "execution_count": 308,
   "metadata": {},
   "outputs": [],
   "source": [
    "hosp_yes = hosp_zip[hosp_zip['hospitalized'] == 'Yes']"
   ]
  },
  {
   "cell_type": "code",
   "execution_count": 309,
   "metadata": {},
   "outputs": [],
   "source": [
    "hosp_rate_df = hosp_rate_df.merge(hosp_yes, how = 'inner', on = 'zip_code', suffixes=('_total', '_yes'))"
   ]
  },
  {
   "cell_type": "code",
   "execution_count": 310,
   "metadata": {},
   "outputs": [],
   "source": [
    "hosp_rate = []\n",
    "\n",
    "for i in range(0, len(hosp_rate_df)):\n",
    "    rate = hosp_rate_df['count_yes'][i] / hosp_rate_df['count_total'][i]\n",
    "    hosp_rate.append(rate)\n",
    "    \n",
    "hosp_rate_df['hospitalization_rate'] = hosp_rate\n",
    "hosp_rate_df = hosp_rate_df.sort_values('hospitalization_rate', ascending=False).reset_index(drop=True)"
   ]
  },
  {
   "cell_type": "code",
   "execution_count": 319,
   "metadata": {},
   "outputs": [
    {
     "data": {
      "text/html": [
       "<div>\n",
       "<style scoped>\n",
       "    .dataframe tbody tr th:only-of-type {\n",
       "        vertical-align: middle;\n",
       "    }\n",
       "\n",
       "    .dataframe tbody tr th {\n",
       "        vertical-align: top;\n",
       "    }\n",
       "\n",
       "    .dataframe thead th {\n",
       "        text-align: right;\n",
       "    }\n",
       "</style>\n",
       "<table border=\"1\" class=\"dataframe\">\n",
       "  <thead>\n",
       "    <tr style=\"text-align: right;\">\n",
       "      <th></th>\n",
       "      <th>zip_code</th>\n",
       "      <th>count_total</th>\n",
       "      <th>cartodb_id</th>\n",
       "      <th>the_geom</th>\n",
       "      <th>the_geom_webmercator</th>\n",
       "      <th>hospitalized</th>\n",
       "      <th>count_yes</th>\n",
       "      <th>etl_timestamp</th>\n",
       "      <th>hospitalization_rate</th>\n",
       "    </tr>\n",
       "  </thead>\n",
       "  <tbody>\n",
       "    <tr>\n",
       "      <th>0</th>\n",
       "      <td>19132</td>\n",
       "      <td>911</td>\n",
       "      <td>60</td>\n",
       "      <td>None</td>\n",
       "      <td>None</td>\n",
       "      <td>Yes</td>\n",
       "      <td>239</td>\n",
       "      <td>2020-10-24T17:20:02Z</td>\n",
       "      <td>0.262349</td>\n",
       "    </tr>\n",
       "    <tr>\n",
       "      <th>1</th>\n",
       "      <td>19133</td>\n",
       "      <td>897</td>\n",
       "      <td>89</td>\n",
       "      <td>None</td>\n",
       "      <td>None</td>\n",
       "      <td>Yes</td>\n",
       "      <td>227</td>\n",
       "      <td>2020-10-24T17:20:02Z</td>\n",
       "      <td>0.253066</td>\n",
       "    </tr>\n",
       "    <tr>\n",
       "      <th>2</th>\n",
       "      <td>19101</td>\n",
       "      <td>40</td>\n",
       "      <td>73</td>\n",
       "      <td>None</td>\n",
       "      <td>None</td>\n",
       "      <td>Yes</td>\n",
       "      <td>10</td>\n",
       "      <td>2020-10-24T17:20:02Z</td>\n",
       "      <td>0.250000</td>\n",
       "    </tr>\n",
       "    <tr>\n",
       "      <th>3</th>\n",
       "      <td>19140</td>\n",
       "      <td>1733</td>\n",
       "      <td>30</td>\n",
       "      <td>None</td>\n",
       "      <td>None</td>\n",
       "      <td>Yes</td>\n",
       "      <td>427</td>\n",
       "      <td>2020-10-24T17:20:02Z</td>\n",
       "      <td>0.246394</td>\n",
       "    </tr>\n",
       "    <tr>\n",
       "      <th>4</th>\n",
       "      <td>19126</td>\n",
       "      <td>677</td>\n",
       "      <td>29</td>\n",
       "      <td>None</td>\n",
       "      <td>None</td>\n",
       "      <td>Yes</td>\n",
       "      <td>166</td>\n",
       "      <td>2020-10-24T17:20:02Z</td>\n",
       "      <td>0.245199</td>\n",
       "    </tr>\n",
       "  </tbody>\n",
       "</table>\n",
       "</div>"
      ],
      "text/plain": [
       "   zip_code  count_total  cartodb_id the_geom the_geom_webmercator  \\\n",
       "0     19132          911          60     None                 None   \n",
       "1     19133          897          89     None                 None   \n",
       "2     19101           40          73     None                 None   \n",
       "3     19140         1733          30     None                 None   \n",
       "4     19126          677          29     None                 None   \n",
       "\n",
       "  hospitalized  count_yes         etl_timestamp  hospitalization_rate  \n",
       "0          Yes        239  2020-10-24T17:20:02Z              0.262349  \n",
       "1          Yes        227  2020-10-24T17:20:02Z              0.253066  \n",
       "2          Yes         10  2020-10-24T17:20:02Z              0.250000  \n",
       "3          Yes        427  2020-10-24T17:20:02Z              0.246394  \n",
       "4          Yes        166  2020-10-24T17:20:02Z              0.245199  "
      ]
     },
     "execution_count": 319,
     "metadata": {},
     "output_type": "execute_result"
    }
   ],
   "source": [
    "hosp_rate_df.head()"
   ]
  },
  {
   "cell_type": "code",
   "execution_count": 318,
   "metadata": {},
   "outputs": [
    {
     "data": {
      "image/png": "[encoded data removed]",
      "text/plain": [
       "<Figure size 864x576 with 1 Axes>"
      ]
     },
     "metadata": {
      "needs_background": "light"
     },
     "output_type": "display_data"
    }
   ],
   "source": [
    "# Hospitalization rate by zip code\n",
    "plt.subplots(figsize=(12,8))\n",
    "hosp_rate_df_plot = sns.barplot(x='zip_code', y='hospitalization_rate', data=hosp_rate_df,\n",
    "                               order=hosp_rate_df.sort_values('hospitalization_rate', ascending=False)['zip_code'])\n",
    "hosp_rate_df_plot.set_xticklabels(hosp_rate_df['zip_code'],rotation=90)\n",
    "plt.title('Hospitalization Rate by Zip Code')\n",
    "plt.show()"
   ]
  },
  {
   "cell_type": "code",
   "execution_count": 346,
   "metadata": {},
   "outputs": [],
   "source": [
    "# Merge DFs for hospitalization rate by zip median\n",
    "hosp_rate_by_median = hosp_yes.merge(price_median_by_zip, how = 'inner', on = 'zip_code')"
   ]
  },
  {
   "cell_type": "code",
   "execution_count": 385,
   "metadata": {},
   "outputs": [],
   "source": [
    "# Get rate of hospitalization in reference to median listing price by zip\n",
    "hosp_rate_median_price_list = []\n",
    "\n",
    "for i in range(0, len(hosp_rate_by_median)):\n",
    "    rate = round(hosp_rate_by_median['count'][i] / hosp_rate_by_median['median_price'][i], 4)\n",
    "    hosp_rate_median_price_list.append(rate)\n",
    "    \n",
    "hosp_rate_by_median['rate_by_median_list_price'] = hosp_rate_median_price_list\n",
    "hosp_rate_by_median = hosp_rate_by_median.sort_values('rate_by_median_list_price', ascending=False).reset_index(drop=True)"
   ]
  },
  {
   "cell_type": "code",
   "execution_count": 386,
   "metadata": {},
   "outputs": [
    {
     "data": {
      "text/html": [
       "<div>\n",
       "<style scoped>\n",
       "    .dataframe tbody tr th:only-of-type {\n",
       "        vertical-align: middle;\n",
       "    }\n",
       "\n",
       "    .dataframe tbody tr th {\n",
       "        vertical-align: top;\n",
       "    }\n",
       "\n",
       "    .dataframe thead th {\n",
       "        text-align: right;\n",
       "    }\n",
       "</style>\n",
       "<table border=\"1\" class=\"dataframe\">\n",
       "  <thead>\n",
       "    <tr style=\"text-align: right;\">\n",
       "      <th></th>\n",
       "      <th>cartodb_id</th>\n",
       "      <th>the_geom</th>\n",
       "      <th>the_geom_webmercator</th>\n",
       "      <th>zip_code</th>\n",
       "      <th>hospitalized</th>\n",
       "      <th>count</th>\n",
       "      <th>etl_timestamp</th>\n",
       "      <th>median_price</th>\n",
       "      <th>rate_by_median_list_price</th>\n",
       "    </tr>\n",
       "  </thead>\n",
       "  <tbody>\n",
       "    <tr>\n",
       "      <th>0</th>\n",
       "      <td>30</td>\n",
       "      <td>None</td>\n",
       "      <td>None</td>\n",
       "      <td>19140</td>\n",
       "      <td>Yes</td>\n",
       "      <td>427</td>\n",
       "      <td>2020-10-24T17:20:02Z</td>\n",
       "      <td>80000.0</td>\n",
       "      <td>0.0053</td>\n",
       "    </tr>\n",
       "    <tr>\n",
       "      <th>1</th>\n",
       "      <td>60</td>\n",
       "      <td>None</td>\n",
       "      <td>None</td>\n",
       "      <td>19132</td>\n",
       "      <td>Yes</td>\n",
       "      <td>239</td>\n",
       "      <td>2020-10-24T17:20:02Z</td>\n",
       "      <td>50000.0</td>\n",
       "      <td>0.0048</td>\n",
       "    </tr>\n",
       "    <tr>\n",
       "      <th>2</th>\n",
       "      <td>89</td>\n",
       "      <td>None</td>\n",
       "      <td>None</td>\n",
       "      <td>19133</td>\n",
       "      <td>Yes</td>\n",
       "      <td>227</td>\n",
       "      <td>2020-10-24T17:20:02Z</td>\n",
       "      <td>52500.0</td>\n",
       "      <td>0.0043</td>\n",
       "    </tr>\n",
       "    <tr>\n",
       "      <th>3</th>\n",
       "      <td>6</td>\n",
       "      <td>None</td>\n",
       "      <td>None</td>\n",
       "      <td>19139</td>\n",
       "      <td>Yes</td>\n",
       "      <td>301</td>\n",
       "      <td>2020-10-24T17:20:02Z</td>\n",
       "      <td>127450.0</td>\n",
       "      <td>0.0024</td>\n",
       "    </tr>\n",
       "    <tr>\n",
       "      <th>4</th>\n",
       "      <td>23</td>\n",
       "      <td>None</td>\n",
       "      <td>None</td>\n",
       "      <td>19131</td>\n",
       "      <td>Yes</td>\n",
       "      <td>309</td>\n",
       "      <td>2020-10-24T17:20:02Z</td>\n",
       "      <td>135000.0</td>\n",
       "      <td>0.0023</td>\n",
       "    </tr>\n",
       "  </tbody>\n",
       "</table>\n",
       "</div>"
      ],
      "text/plain": [
       "   cartodb_id the_geom the_geom_webmercator  zip_code hospitalized  count  \\\n",
       "0          30     None                 None     19140          Yes    427   \n",
       "1          60     None                 None     19132          Yes    239   \n",
       "2          89     None                 None     19133          Yes    227   \n",
       "3           6     None                 None     19139          Yes    301   \n",
       "4          23     None                 None     19131          Yes    309   \n",
       "\n",
       "          etl_timestamp  median_price  rate_by_median_list_price  \n",
       "0  2020-10-24T17:20:02Z       80000.0                     0.0053  \n",
       "1  2020-10-24T17:20:02Z       50000.0                     0.0048  \n",
       "2  2020-10-24T17:20:02Z       52500.0                     0.0043  \n",
       "3  2020-10-24T17:20:02Z      127450.0                     0.0024  \n",
       "4  2020-10-24T17:20:02Z      135000.0                     0.0023  "
      ]
     },
     "execution_count": 386,
     "metadata": {},
     "output_type": "execute_result"
    }
   ],
   "source": [
    "hosp_rate_by_median.head()"
   ]
  },
  {
   "cell_type": "code",
   "execution_count": 387,
   "metadata": {},
   "outputs": [
    {
     "data": {
      "image/png": "[encoded data removed]",
      "text/plain": [
       "<Figure size 864x576 with 1 Axes>"
      ]
     },
     "metadata": {
      "needs_background": "light"
     },
     "output_type": "display_data"
    }
   ],
   "source": [
    "# Hospitalizations by zip divided by corresponding zip median listing price\n",
    "plt.subplots(figsize=(12,8))\n",
    "hosp_rate_median_list_plot = sns.barplot(x='zip_code', y='rate_by_median_list_price', data=hosp_rate_by_median,\n",
    "                               order=hosp_rate_by_median.sort_values('rate_by_median_list_price', ascending=False)['zip_code'])\n",
    "hosp_rate_median_list_plot.set_xticklabels(hosp_rate_by_median['zip_code'],rotation=90)\n",
    "plt.title('Hospitalization Rate per Median Listing Price by Zip Code')\n",
    "plt.show()"
   ]
  },
  {
   "cell_type": "markdown",
   "metadata": {},
   "source": [
    "## Test outcome by zip"
   ]
  },
  {
   "cell_type": "code",
   "execution_count": 97,
   "metadata": {},
   "outputs": [
    {
     "data": {
      "text/html": [
       "<div>\n",
       "<style scoped>\n",
       "    .dataframe tbody tr th:only-of-type {\n",
       "        vertical-align: middle;\n",
       "    }\n",
       "\n",
       "    .dataframe tbody tr th {\n",
       "        vertical-align: top;\n",
       "    }\n",
       "\n",
       "    .dataframe thead th {\n",
       "        text-align: right;\n",
       "    }\n",
       "</style>\n",
       "<table border=\"1\" class=\"dataframe\">\n",
       "  <thead>\n",
       "    <tr style=\"text-align: right;\">\n",
       "      <th></th>\n",
       "      <th>cartodb_id</th>\n",
       "      <th>the_geom</th>\n",
       "      <th>the_geom_webmercator</th>\n",
       "      <th>covid_status</th>\n",
       "      <th>zip_code</th>\n",
       "      <th>count</th>\n",
       "      <th>etl_timestamp</th>\n",
       "    </tr>\n",
       "  </thead>\n",
       "  <tbody>\n",
       "    <tr>\n",
       "      <th>0</th>\n",
       "      <td>1</td>\n",
       "      <td>None</td>\n",
       "      <td>None</td>\n",
       "      <td>NEG</td>\n",
       "      <td>19140</td>\n",
       "      <td>14492</td>\n",
       "      <td>2020-10-24T17:20:02Z</td>\n",
       "    </tr>\n",
       "    <tr>\n",
       "      <th>1</th>\n",
       "      <td>2</td>\n",
       "      <td>None</td>\n",
       "      <td>None</td>\n",
       "      <td>POS</td>\n",
       "      <td>19127</td>\n",
       "      <td>88</td>\n",
       "      <td>2020-10-24T17:20:02Z</td>\n",
       "    </tr>\n",
       "    <tr>\n",
       "      <th>2</th>\n",
       "      <td>3</td>\n",
       "      <td>None</td>\n",
       "      <td>None</td>\n",
       "      <td>NEG</td>\n",
       "      <td>19133</td>\n",
       "      <td>6606</td>\n",
       "      <td>2020-10-24T17:20:02Z</td>\n",
       "    </tr>\n",
       "    <tr>\n",
       "      <th>3</th>\n",
       "      <td>4</td>\n",
       "      <td>None</td>\n",
       "      <td>None</td>\n",
       "      <td>POS</td>\n",
       "      <td>19146</td>\n",
       "      <td>871</td>\n",
       "      <td>2020-10-24T17:20:02Z</td>\n",
       "    </tr>\n",
       "    <tr>\n",
       "      <th>4</th>\n",
       "      <td>5</td>\n",
       "      <td>None</td>\n",
       "      <td>None</td>\n",
       "      <td>NEG</td>\n",
       "      <td>19138</td>\n",
       "      <td>7885</td>\n",
       "      <td>2020-10-24T17:20:02Z</td>\n",
       "    </tr>\n",
       "  </tbody>\n",
       "</table>\n",
       "</div>"
      ],
      "text/plain": [
       "   cartodb_id the_geom the_geom_webmercator covid_status zip_code  count  \\\n",
       "0           1     None                 None          NEG    19140  14492   \n",
       "1           2     None                 None          POS    19127     88   \n",
       "2           3     None                 None          NEG    19133   6606   \n",
       "3           4     None                 None          POS    19146    871   \n",
       "4           5     None                 None          NEG    19138   7885   \n",
       "\n",
       "          etl_timestamp  \n",
       "0  2020-10-24T17:20:02Z  \n",
       "1  2020-10-24T17:20:02Z  \n",
       "2  2020-10-24T17:20:02Z  \n",
       "3  2020-10-24T17:20:02Z  \n",
       "4  2020-10-24T17:20:02Z  "
      ]
     },
     "execution_count": 97,
     "metadata": {},
     "output_type": "execute_result"
    }
   ],
   "source": [
    "test_zip.head()"
   ]
  },
  {
   "cell_type": "code",
   "execution_count": 142,
   "metadata": {},
   "outputs": [],
   "source": [
    "# convert 'zip_code' to int64 for merging\n",
    "test_zip['zip_code'] = test_zip['zip_code'].astype(int)"
   ]
  },
  {
   "cell_type": "code",
   "execution_count": 123,
   "metadata": {},
   "outputs": [
    {
     "data": {
      "image/png": "[encoded data removed]",
      "text/plain": [
       "<Figure size 1204.38x504 with 1 Axes>"
      ]
     },
     "metadata": {
      "needs_background": "light"
     },
     "output_type": "display_data"
    }
   ],
   "source": [
    "# Test outcomes by zip\n",
    "test_zip_plot = sns.catplot(x = \"zip_code\", y = \"count\", hue = \"covid_status\", data=test_zip, kind = \"bar\", height=7, aspect=2.25)\n",
    "test_zip_plot.fig.suptitle('Test Outcomes by Zip')\n",
    "test_zip_plot.set_xticklabels(rotation=90)\n",
    "plt.show()"
   ]
  },
  {
   "cell_type": "markdown",
   "metadata": {},
   "source": [
    "Build a dataframe for positive cases by zip divided by corresponding median listing price."
   ]
  },
  {
   "cell_type": "code",
   "execution_count": 147,
   "metadata": {},
   "outputs": [],
   "source": [
    "new_df = test_zip.merge(price_median_by_zip, how = 'inner', on = 'zip_code')"
   ]
  },
  {
   "cell_type": "code",
   "execution_count": 148,
   "metadata": {},
   "outputs": [
    {
     "name": "stdout",
     "output_type": "stream",
     "text": [
      "<class 'pandas.core.frame.DataFrame'>\n",
      "Int64Index: 92 entries, 0 to 91\n",
      "Data columns (total 8 columns):\n",
      " #   Column                Non-Null Count  Dtype  \n",
      "---  ------                --------------  -----  \n",
      " 0   cartodb_id            92 non-null     int64  \n",
      " 1   the_geom              0 non-null      object \n",
      " 2   the_geom_webmercator  0 non-null      object \n",
      " 3   covid_status          92 non-null     object \n",
      " 4   zip_code              92 non-null     int64  \n",
      " 5   count                 92 non-null     int64  \n",
      " 6   etl_timestamp         92 non-null     object \n",
      " 7   median_price          92 non-null     float64\n",
      "dtypes: float64(1), int64(3), object(4)\n",
      "memory usage: 6.5+ KB\n"
     ]
    }
   ],
   "source": [
    "new_df.info()"
   ]
  },
  {
   "cell_type": "code",
   "execution_count": 182,
   "metadata": {},
   "outputs": [
    {
     "data": {
      "text/html": [
       "<div>\n",
       "<style scoped>\n",
       "    .dataframe tbody tr th:only-of-type {\n",
       "        vertical-align: middle;\n",
       "    }\n",
       "\n",
       "    .dataframe tbody tr th {\n",
       "        vertical-align: top;\n",
       "    }\n",
       "\n",
       "    .dataframe thead th {\n",
       "        text-align: right;\n",
       "    }\n",
       "</style>\n",
       "<table border=\"1\" class=\"dataframe\">\n",
       "  <thead>\n",
       "    <tr style=\"text-align: right;\">\n",
       "      <th></th>\n",
       "      <th>cartodb_id</th>\n",
       "      <th>the_geom</th>\n",
       "      <th>the_geom_webmercator</th>\n",
       "      <th>covid_status</th>\n",
       "      <th>zip_code</th>\n",
       "      <th>count</th>\n",
       "      <th>etl_timestamp</th>\n",
       "      <th>median_price</th>\n",
       "    </tr>\n",
       "  </thead>\n",
       "  <tbody>\n",
       "    <tr>\n",
       "      <th>44</th>\n",
       "      <td>26</td>\n",
       "      <td>None</td>\n",
       "      <td>None</td>\n",
       "      <td>POS</td>\n",
       "      <td>19118</td>\n",
       "      <td>223</td>\n",
       "      <td>2020-10-24T17:20:02Z</td>\n",
       "      <td>860000.0</td>\n",
       "    </tr>\n",
       "    <tr>\n",
       "      <th>45</th>\n",
       "      <td>100</td>\n",
       "      <td>None</td>\n",
       "      <td>None</td>\n",
       "      <td>NEG</td>\n",
       "      <td>19118</td>\n",
       "      <td>3670</td>\n",
       "      <td>2020-10-24T17:20:02Z</td>\n",
       "      <td>860000.0</td>\n",
       "    </tr>\n",
       "    <tr>\n",
       "      <th>53</th>\n",
       "      <td>50</td>\n",
       "      <td>None</td>\n",
       "      <td>None</td>\n",
       "      <td>POS</td>\n",
       "      <td>19102</td>\n",
       "      <td>91</td>\n",
       "      <td>2020-10-24T17:20:02Z</td>\n",
       "      <td>670000.0</td>\n",
       "    </tr>\n",
       "    <tr>\n",
       "      <th>52</th>\n",
       "      <td>40</td>\n",
       "      <td>None</td>\n",
       "      <td>None</td>\n",
       "      <td>NEG</td>\n",
       "      <td>19102</td>\n",
       "      <td>2704</td>\n",
       "      <td>2020-10-24T17:20:02Z</td>\n",
       "      <td>670000.0</td>\n",
       "    </tr>\n",
       "    <tr>\n",
       "      <th>77</th>\n",
       "      <td>102</td>\n",
       "      <td>None</td>\n",
       "      <td>None</td>\n",
       "      <td>POS</td>\n",
       "      <td>19103</td>\n",
       "      <td>365</td>\n",
       "      <td>2020-10-24T17:20:02Z</td>\n",
       "      <td>599900.0</td>\n",
       "    </tr>\n",
       "  </tbody>\n",
       "</table>\n",
       "</div>"
      ],
      "text/plain": [
       "    cartodb_id the_geom the_geom_webmercator covid_status  zip_code  count  \\\n",
       "44          26     None                 None          POS     19118    223   \n",
       "45         100     None                 None          NEG     19118   3670   \n",
       "53          50     None                 None          POS     19102     91   \n",
       "52          40     None                 None          NEG     19102   2704   \n",
       "77         102     None                 None          POS     19103    365   \n",
       "\n",
       "           etl_timestamp  median_price  \n",
       "44  2020-10-24T17:20:02Z      860000.0  \n",
       "45  2020-10-24T17:20:02Z      860000.0  \n",
       "53  2020-10-24T17:20:02Z      670000.0  \n",
       "52  2020-10-24T17:20:02Z      670000.0  \n",
       "77  2020-10-24T17:20:02Z      599900.0  "
      ]
     },
     "execution_count": 182,
     "metadata": {},
     "output_type": "execute_result"
    }
   ],
   "source": [
    "new_df.sort_values('median_price', ascending=False).head()"
   ]
  },
  {
   "cell_type": "code",
   "execution_count": 184,
   "metadata": {},
   "outputs": [
    {
     "data": {
      "text/html": [
       "<div>\n",
       "<style scoped>\n",
       "    .dataframe tbody tr th:only-of-type {\n",
       "        vertical-align: middle;\n",
       "    }\n",
       "\n",
       "    .dataframe tbody tr th {\n",
       "        vertical-align: top;\n",
       "    }\n",
       "\n",
       "    .dataframe thead th {\n",
       "        text-align: right;\n",
       "    }\n",
       "</style>\n",
       "<table border=\"1\" class=\"dataframe\">\n",
       "  <thead>\n",
       "    <tr style=\"text-align: right;\">\n",
       "      <th></th>\n",
       "      <th>cartodb_id</th>\n",
       "      <th>the_geom</th>\n",
       "      <th>the_geom_webmercator</th>\n",
       "      <th>covid_status</th>\n",
       "      <th>zip_code</th>\n",
       "      <th>count</th>\n",
       "      <th>etl_timestamp</th>\n",
       "      <th>median_price</th>\n",
       "    </tr>\n",
       "  </thead>\n",
       "  <tbody>\n",
       "    <tr>\n",
       "      <th>0</th>\n",
       "      <td>1</td>\n",
       "      <td>None</td>\n",
       "      <td>None</td>\n",
       "      <td>NEG</td>\n",
       "      <td>19140</td>\n",
       "      <td>14492</td>\n",
       "      <td>2020-10-24T17:20:02Z</td>\n",
       "      <td>80000.0</td>\n",
       "    </tr>\n",
       "    <tr>\n",
       "      <th>5</th>\n",
       "      <td>39</td>\n",
       "      <td>None</td>\n",
       "      <td>None</td>\n",
       "      <td>POS</td>\n",
       "      <td>19133</td>\n",
       "      <td>897</td>\n",
       "      <td>2020-10-24T17:20:02Z</td>\n",
       "      <td>52500.0</td>\n",
       "    </tr>\n",
       "    <tr>\n",
       "      <th>4</th>\n",
       "      <td>3</td>\n",
       "      <td>None</td>\n",
       "      <td>None</td>\n",
       "      <td>NEG</td>\n",
       "      <td>19133</td>\n",
       "      <td>6606</td>\n",
       "      <td>2020-10-24T17:20:02Z</td>\n",
       "      <td>52500.0</td>\n",
       "    </tr>\n",
       "    <tr>\n",
       "      <th>63</th>\n",
       "      <td>95</td>\n",
       "      <td>None</td>\n",
       "      <td>None</td>\n",
       "      <td>POS</td>\n",
       "      <td>19132</td>\n",
       "      <td>911</td>\n",
       "      <td>2020-10-24T17:20:02Z</td>\n",
       "      <td>50000.0</td>\n",
       "    </tr>\n",
       "    <tr>\n",
       "      <th>62</th>\n",
       "      <td>47</td>\n",
       "      <td>None</td>\n",
       "      <td>None</td>\n",
       "      <td>NEG</td>\n",
       "      <td>19132</td>\n",
       "      <td>9517</td>\n",
       "      <td>2020-10-24T17:20:02Z</td>\n",
       "      <td>50000.0</td>\n",
       "    </tr>\n",
       "  </tbody>\n",
       "</table>\n",
       "</div>"
      ],
      "text/plain": [
       "    cartodb_id the_geom the_geom_webmercator covid_status  zip_code  count  \\\n",
       "0            1     None                 None          NEG     19140  14492   \n",
       "5           39     None                 None          POS     19133    897   \n",
       "4            3     None                 None          NEG     19133   6606   \n",
       "63          95     None                 None          POS     19132    911   \n",
       "62          47     None                 None          NEG     19132   9517   \n",
       "\n",
       "           etl_timestamp  median_price  \n",
       "0   2020-10-24T17:20:02Z       80000.0  \n",
       "5   2020-10-24T17:20:02Z       52500.0  \n",
       "4   2020-10-24T17:20:02Z       52500.0  \n",
       "63  2020-10-24T17:20:02Z       50000.0  \n",
       "62  2020-10-24T17:20:02Z       50000.0  "
      ]
     },
     "execution_count": 184,
     "metadata": {},
     "output_type": "execute_result"
    }
   ],
   "source": [
    "new_df.sort_values('median_price', ascending=False).tail()"
   ]
  },
  {
   "cell_type": "code",
   "execution_count": 197,
   "metadata": {},
   "outputs": [],
   "source": [
    "pos_df = new_df[new_df['covid_status'] == 'POS']\n",
    "pos_df = pos_df.reset_index(drop=True)"
   ]
  },
  {
   "cell_type": "code",
   "execution_count": 408,
   "metadata": {},
   "outputs": [],
   "source": [
    "## Postive case rate by zip code median listing price\n",
    "case_rate_by_zip_median = []\n",
    "\n",
    "for i in range(0, len(pos_df['count'])):\n",
    "    rate = round(pos_df['count'][i] / pos_df['median_price'][i], 4)\n",
    "    case_rate_by_zip_median.append(rate)"
   ]
  },
  {
   "cell_type": "code",
   "execution_count": 409,
   "metadata": {},
   "outputs": [],
   "source": [
    "pos_df['case_rate_by_zip_median'] = case_rate_by_zip_median"
   ]
  },
  {
   "cell_type": "code",
   "execution_count": 411,
   "metadata": {},
   "outputs": [],
   "source": [
    "# pos_df.drop(['cartodb_id', 'the_geom', 'the_geom_webmercator', 'etl_timestamp'], axis=1, inplace=True)"
   ]
  },
  {
   "cell_type": "code",
   "execution_count": 412,
   "metadata": {},
   "outputs": [
    {
     "data": {
      "image/png": "[encoded data removed]",
      "text/plain": [
       "<Figure size 864x576 with 1 Axes>"
      ]
     },
     "metadata": {
      "needs_background": "light"
     },
     "output_type": "display_data"
    }
   ],
   "source": [
    "# Positive cases count by zip\n",
    "plt.subplots(figsize=(12,8))\n",
    "pos_case_by_zip_plot = sns.barplot(x='zip_code', y='count', data=pos_df,\n",
    "                             order=pos_df.sort_values('count', ascending=False)['zip_code'])\n",
    "pos_case_by_zip_plot.set_xticklabels(pos_df['zip_code'],rotation=90)\n",
    "plt.title('Positive Cases by Zip Code')\n",
    "plt.show()"
   ]
  },
  {
   "cell_type": "code",
   "execution_count": 413,
   "metadata": {},
   "outputs": [
    {
     "data": {
      "image/png": "[encoded data removed]",
      "text/plain": [
       "<Figure size 864x576 with 1 Axes>"
      ]
     },
     "metadata": {
      "needs_background": "light"
     },
     "output_type": "display_data"
    }
   ],
   "source": [
    "# Positive cases by zip divided by median price listing\n",
    "plt.subplots(figsize=(12,8))\n",
    "case_by_zip_median_plot = sns.barplot(x='zip_code', y='case_rate_by_zip_median', data=pos_df,\n",
    "                             order=pos_df.sort_values('case_rate_by_zip_median', ascending=False)['zip_code'])\n",
    "case_by_zip_median_plot.set_xticklabels(pos_df['zip_code'],rotation=90)\n",
    "plt.title('Rate of Cases by Zip Median')\n",
    "plt.show()"
   ]
  },
  {
   "cell_type": "markdown",
   "metadata": {},
   "source": [
    "## Deaths by Zip"
   ]
  },
  {
   "cell_type": "code",
   "execution_count": 414,
   "metadata": {},
   "outputs": [
    {
     "data": {
      "text/html": [
       "<div>\n",
       "<style scoped>\n",
       "    .dataframe tbody tr th:only-of-type {\n",
       "        vertical-align: middle;\n",
       "    }\n",
       "\n",
       "    .dataframe tbody tr th {\n",
       "        vertical-align: top;\n",
       "    }\n",
       "\n",
       "    .dataframe thead th {\n",
       "        text-align: right;\n",
       "    }\n",
       "</style>\n",
       "<table border=\"1\" class=\"dataframe\">\n",
       "  <thead>\n",
       "    <tr style=\"text-align: right;\">\n",
       "      <th></th>\n",
       "      <th>cartodb_id</th>\n",
       "      <th>the_geom</th>\n",
       "      <th>the_geom_webmercator</th>\n",
       "      <th>zip_code</th>\n",
       "      <th>covid_outcome</th>\n",
       "      <th>count</th>\n",
       "      <th>etl_timestamp</th>\n",
       "    </tr>\n",
       "  </thead>\n",
       "  <tbody>\n",
       "    <tr>\n",
       "      <th>0</th>\n",
       "      <td>1</td>\n",
       "      <td>None</td>\n",
       "      <td>None</td>\n",
       "      <td>19107</td>\n",
       "      <td>DIED</td>\n",
       "      <td>10</td>\n",
       "      <td>2020-10-24T17:20:02Z</td>\n",
       "    </tr>\n",
       "    <tr>\n",
       "      <th>1</th>\n",
       "      <td>2</td>\n",
       "      <td>None</td>\n",
       "      <td>None</td>\n",
       "      <td>19132</td>\n",
       "      <td>DIED</td>\n",
       "      <td>39</td>\n",
       "      <td>2020-10-24T17:20:02Z</td>\n",
       "    </tr>\n",
       "    <tr>\n",
       "      <th>2</th>\n",
       "      <td>3</td>\n",
       "      <td>None</td>\n",
       "      <td>None</td>\n",
       "      <td>19111</td>\n",
       "      <td>DIED</td>\n",
       "      <td>74</td>\n",
       "      <td>2020-10-24T17:20:02Z</td>\n",
       "    </tr>\n",
       "    <tr>\n",
       "      <th>3</th>\n",
       "      <td>4</td>\n",
       "      <td>None</td>\n",
       "      <td>None</td>\n",
       "      <td>19115</td>\n",
       "      <td>DIED</td>\n",
       "      <td>119</td>\n",
       "      <td>2020-10-24T17:20:02Z</td>\n",
       "    </tr>\n",
       "    <tr>\n",
       "      <th>4</th>\n",
       "      <td>5</td>\n",
       "      <td>None</td>\n",
       "      <td>None</td>\n",
       "      <td>19136</td>\n",
       "      <td>DIED</td>\n",
       "      <td>74</td>\n",
       "      <td>2020-10-24T17:20:02Z</td>\n",
       "    </tr>\n",
       "  </tbody>\n",
       "</table>\n",
       "</div>"
      ],
      "text/plain": [
       "   cartodb_id the_geom the_geom_webmercator  zip_code covid_outcome  count  \\\n",
       "0           1     None                 None     19107          DIED     10   \n",
       "1           2     None                 None     19132          DIED     39   \n",
       "2           3     None                 None     19111          DIED     74   \n",
       "3           4     None                 None     19115          DIED    119   \n",
       "4           5     None                 None     19136          DIED     74   \n",
       "\n",
       "          etl_timestamp  \n",
       "0  2020-10-24T17:20:02Z  \n",
       "1  2020-10-24T17:20:02Z  \n",
       "2  2020-10-24T17:20:02Z  \n",
       "3  2020-10-24T17:20:02Z  \n",
       "4  2020-10-24T17:20:02Z  "
      ]
     },
     "execution_count": 414,
     "metadata": {},
     "output_type": "execute_result"
    }
   ],
   "source": [
    "death_zip.head()"
   ]
  },
  {
   "cell_type": "code",
   "execution_count": 221,
   "metadata": {},
   "outputs": [
    {
     "data": {
      "image/png": "[encoded data removed]",
      "text/plain": [
       "<Figure size 864x576 with 1 Axes>"
      ]
     },
     "metadata": {
      "needs_background": "light"
     },
     "output_type": "display_data"
    }
   ],
   "source": [
    "# Death count by zip\n",
    "plt.figure(figsize=(12,8))\n",
    "death_zip_plot = sns.barplot(x='zip_code', y='count', data=death_zip,\n",
    "                             order=death_zip.sort_values('count', ascending=False)['zip_code'])\n",
    "death_zip_plot.set_xticklabels([i for i in death_zip['zip_code']], rotation=90)\n",
    "plt.title('Death Count by Zip Code')\n",
    "plt.show()"
   ]
  },
  {
   "cell_type": "markdown",
   "metadata": {},
   "source": [
    "Build dataframe for deaths by zip divided by median listing price for corresponding zip."
   ]
  },
  {
   "cell_type": "code",
   "execution_count": 224,
   "metadata": {},
   "outputs": [],
   "source": [
    "death_zip['zip_code'] = death_zip['zip_code'].astype(int)\n",
    "death_merge = death_zip.merge(price_median_by_zip, how = 'inner', on = 'zip_code')"
   ]
  },
  {
   "cell_type": "code",
   "execution_count": 399,
   "metadata": {},
   "outputs": [],
   "source": [
    "## Death rate by median listing price\n",
    "death_rate_by_zip_median = []\n",
    "\n",
    "for i in range(0, len(death_merge['count'])):\n",
    "    rate = round(death_merge['count'][i] / death_merge['median_price'][i], 5) * 100\n",
    "    death_rate_by_zip_median.append(rate)\n",
    "\n",
    "death_merge['death_rate_by_zip_median'] = death_rate_by_zip_median\n",
    "death_merge = death_merge.sort_values('death_rate_by_zip_median', ascending=False).reset_index(drop=True)"
   ]
  },
  {
   "cell_type": "code",
   "execution_count": 400,
   "metadata": {},
   "outputs": [
    {
     "data": {
      "text/html": [
       "<div>\n",
       "<style scoped>\n",
       "    .dataframe tbody tr th:only-of-type {\n",
       "        vertical-align: middle;\n",
       "    }\n",
       "\n",
       "    .dataframe tbody tr th {\n",
       "        vertical-align: top;\n",
       "    }\n",
       "\n",
       "    .dataframe thead th {\n",
       "        text-align: right;\n",
       "    }\n",
       "</style>\n",
       "<table border=\"1\" class=\"dataframe\">\n",
       "  <thead>\n",
       "    <tr style=\"text-align: right;\">\n",
       "      <th></th>\n",
       "      <th>cartodb_id</th>\n",
       "      <th>the_geom</th>\n",
       "      <th>the_geom_webmercator</th>\n",
       "      <th>zip_code</th>\n",
       "      <th>covid_outcome</th>\n",
       "      <th>count</th>\n",
       "      <th>etl_timestamp</th>\n",
       "      <th>median_price</th>\n",
       "      <th>death_rate_by_zip_median</th>\n",
       "    </tr>\n",
       "  </thead>\n",
       "  <tbody>\n",
       "    <tr>\n",
       "      <th>0</th>\n",
       "      <td>2</td>\n",
       "      <td>None</td>\n",
       "      <td>None</td>\n",
       "      <td>19132</td>\n",
       "      <td>DIED</td>\n",
       "      <td>39</td>\n",
       "      <td>2020-10-24T17:20:02Z</td>\n",
       "      <td>50000.0</td>\n",
       "      <td>0.078</td>\n",
       "    </tr>\n",
       "    <tr>\n",
       "      <th>1</th>\n",
       "      <td>38</td>\n",
       "      <td>None</td>\n",
       "      <td>None</td>\n",
       "      <td>19140</td>\n",
       "      <td>DIED</td>\n",
       "      <td>61</td>\n",
       "      <td>2020-10-24T17:20:02Z</td>\n",
       "      <td>80000.0</td>\n",
       "      <td>0.076</td>\n",
       "    </tr>\n",
       "    <tr>\n",
       "      <th>2</th>\n",
       "      <td>25</td>\n",
       "      <td>None</td>\n",
       "      <td>None</td>\n",
       "      <td>19131</td>\n",
       "      <td>DIED</td>\n",
       "      <td>97</td>\n",
       "      <td>2020-10-24T17:20:02Z</td>\n",
       "      <td>135000.0</td>\n",
       "      <td>0.072</td>\n",
       "    </tr>\n",
       "    <tr>\n",
       "      <th>3</th>\n",
       "      <td>34</td>\n",
       "      <td>None</td>\n",
       "      <td>None</td>\n",
       "      <td>19144</td>\n",
       "      <td>DIED</td>\n",
       "      <td>97</td>\n",
       "      <td>2020-10-24T17:20:02Z</td>\n",
       "      <td>150000.0</td>\n",
       "      <td>0.065</td>\n",
       "    </tr>\n",
       "    <tr>\n",
       "      <th>4</th>\n",
       "      <td>16</td>\n",
       "      <td>None</td>\n",
       "      <td>None</td>\n",
       "      <td>19104</td>\n",
       "      <td>DIED</td>\n",
       "      <td>77</td>\n",
       "      <td>2020-10-24T17:20:02Z</td>\n",
       "      <td>134000.0</td>\n",
       "      <td>0.057</td>\n",
       "    </tr>\n",
       "  </tbody>\n",
       "</table>\n",
       "</div>"
      ],
      "text/plain": [
       "   cartodb_id the_geom the_geom_webmercator  zip_code covid_outcome  count  \\\n",
       "0           2     None                 None     19132          DIED     39   \n",
       "1          38     None                 None     19140          DIED     61   \n",
       "2          25     None                 None     19131          DIED     97   \n",
       "3          34     None                 None     19144          DIED     97   \n",
       "4          16     None                 None     19104          DIED     77   \n",
       "\n",
       "          etl_timestamp  median_price  death_rate_by_zip_median  \n",
       "0  2020-10-24T17:20:02Z       50000.0                     0.078  \n",
       "1  2020-10-24T17:20:02Z       80000.0                     0.076  \n",
       "2  2020-10-24T17:20:02Z      135000.0                     0.072  \n",
       "3  2020-10-24T17:20:02Z      150000.0                     0.065  \n",
       "4  2020-10-24T17:20:02Z      134000.0                     0.057  "
      ]
     },
     "execution_count": 400,
     "metadata": {},
     "output_type": "execute_result"
    }
   ],
   "source": [
    "death_merge.head()"
   ]
  },
  {
   "cell_type": "code",
   "execution_count": 402,
   "metadata": {},
   "outputs": [
    {
     "data": {
      "text/html": [
       "<div>\n",
       "<style scoped>\n",
       "    .dataframe tbody tr th:only-of-type {\n",
       "        vertical-align: middle;\n",
       "    }\n",
       "\n",
       "    .dataframe tbody tr th {\n",
       "        vertical-align: top;\n",
       "    }\n",
       "\n",
       "    .dataframe thead th {\n",
       "        text-align: right;\n",
       "    }\n",
       "</style>\n",
       "<table border=\"1\" class=\"dataframe\">\n",
       "  <thead>\n",
       "    <tr style=\"text-align: right;\">\n",
       "      <th></th>\n",
       "      <th>cartodb_id</th>\n",
       "      <th>the_geom</th>\n",
       "      <th>the_geom_webmercator</th>\n",
       "      <th>zip_code</th>\n",
       "      <th>covid_outcome</th>\n",
       "      <th>count</th>\n",
       "      <th>etl_timestamp</th>\n",
       "      <th>median_price</th>\n",
       "      <th>death_rate_by_zip_median</th>\n",
       "    </tr>\n",
       "  </thead>\n",
       "  <tbody>\n",
       "    <tr>\n",
       "      <th>37</th>\n",
       "      <td>31</td>\n",
       "      <td>None</td>\n",
       "      <td>None</td>\n",
       "      <td>19125</td>\n",
       "      <td>DIED</td>\n",
       "      <td>15</td>\n",
       "      <td>2020-10-24T17:20:02Z</td>\n",
       "      <td>394900.0</td>\n",
       "      <td>0.004</td>\n",
       "    </tr>\n",
       "    <tr>\n",
       "      <th>38</th>\n",
       "      <td>10</td>\n",
       "      <td>None</td>\n",
       "      <td>None</td>\n",
       "      <td>19118</td>\n",
       "      <td>DIED</td>\n",
       "      <td>24</td>\n",
       "      <td>2020-10-24T17:20:02Z</td>\n",
       "      <td>860000.0</td>\n",
       "      <td>0.003</td>\n",
       "    </tr>\n",
       "    <tr>\n",
       "      <th>39</th>\n",
       "      <td>8</td>\n",
       "      <td>None</td>\n",
       "      <td>None</td>\n",
       "      <td>19147</td>\n",
       "      <td>DIED</td>\n",
       "      <td>14</td>\n",
       "      <td>2020-10-24T17:20:02Z</td>\n",
       "      <td>525000.0</td>\n",
       "      <td>0.003</td>\n",
       "    </tr>\n",
       "    <tr>\n",
       "      <th>40</th>\n",
       "      <td>1</td>\n",
       "      <td>None</td>\n",
       "      <td>None</td>\n",
       "      <td>19107</td>\n",
       "      <td>DIED</td>\n",
       "      <td>10</td>\n",
       "      <td>2020-10-24T17:20:02Z</td>\n",
       "      <td>344500.0</td>\n",
       "      <td>0.003</td>\n",
       "    </tr>\n",
       "    <tr>\n",
       "      <th>41</th>\n",
       "      <td>11</td>\n",
       "      <td>None</td>\n",
       "      <td>None</td>\n",
       "      <td>19129</td>\n",
       "      <td>DIED</td>\n",
       "      <td>7</td>\n",
       "      <td>2020-10-24T17:20:02Z</td>\n",
       "      <td>284950.0</td>\n",
       "      <td>0.002</td>\n",
       "    </tr>\n",
       "  </tbody>\n",
       "</table>\n",
       "</div>"
      ],
      "text/plain": [
       "    cartodb_id the_geom the_geom_webmercator  zip_code covid_outcome  count  \\\n",
       "37          31     None                 None     19125          DIED     15   \n",
       "38          10     None                 None     19118          DIED     24   \n",
       "39           8     None                 None     19147          DIED     14   \n",
       "40           1     None                 None     19107          DIED     10   \n",
       "41          11     None                 None     19129          DIED      7   \n",
       "\n",
       "           etl_timestamp  median_price  death_rate_by_zip_median  \n",
       "37  2020-10-24T17:20:02Z      394900.0                     0.004  \n",
       "38  2020-10-24T17:20:02Z      860000.0                     0.003  \n",
       "39  2020-10-24T17:20:02Z      525000.0                     0.003  \n",
       "40  2020-10-24T17:20:02Z      344500.0                     0.003  \n",
       "41  2020-10-24T17:20:02Z      284950.0                     0.002  "
      ]
     },
     "execution_count": 402,
     "metadata": {},
     "output_type": "execute_result"
    }
   ],
   "source": [
    "death_merge.tail()"
   ]
  },
  {
   "cell_type": "code",
   "execution_count": 401,
   "metadata": {},
   "outputs": [
    {
     "data": {
      "image/png": "[encoded data removed]",
      "text/plain": [
       "<Figure size 864x576 with 1 Axes>"
      ]
     },
     "metadata": {
      "needs_background": "light"
     },
     "output_type": "display_data"
    }
   ],
   "source": [
    "# Death count by zip divided by median listing price for corresponding zip\n",
    "plt.subplots(figsize=(12,8))\n",
    "death_merge_plot = sns.barplot(x='zip_code', y='death_rate_by_zip_median', data=death_merge,\n",
    "                             order=death_merge.sort_values('death_rate_by_zip_median', ascending=False)['zip_code'])\n",
    "death_merge_plot.set_xticklabels(death_merge['zip_code'],rotation=90)\n",
    "plt.title('Death Rate by Zip Code Median')\n",
    "plt.show()"
   ]
  },
  {
   "cell_type": "code",
   "execution_count": null,
   "metadata": {},
   "outputs": [],
   "source": []
  }
 ],
 "metadata": {
  "kernelspec": {
   "display_name": "Python 3",
   "language": "python",
   "name": "python3"
  },
  "language_info": {
   "codemirror_mode": {
    "name": "ipython",
    "version": 3
   },
   "file_extension": ".py",
   "mimetype": "text/x-python",
   "name": "python",
   "nbconvert_exporter": "python",
   "pygments_lexer": "ipython3",
   "version": "3.7.6"
  }
 },
 "nbformat": 4,
 "nbformat_minor": 4
}
