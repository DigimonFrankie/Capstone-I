{
 "cells": [
  {
   "cell_type": "code",
   "execution_count": 301,
   "metadata": {},
   "outputs": [],
   "source": [
    "import pandas as pd\n",
    "import numpy as np\n",
    "import matplotlib.pyplot as plt\n",
    "import seaborn as sns\n",
    "import re\n",
    "import json\n",
    "import requests\n",
    "from scipy import stats"
   ]
  },
  {
   "cell_type": "markdown",
   "metadata": {},
   "source": [
    "### Current Listing Data"
   ]
  },
  {
   "cell_type": "code",
   "execution_count": 302,
   "metadata": {},
   "outputs": [],
   "source": [
    "curr_df = pd.read_csv('./update_df.csv')"
   ]
  },
  {
   "cell_type": "code",
   "execution_count": 303,
   "metadata": {},
   "outputs": [
    {
     "data": {
      "text/html": [
       "<div>\n",
       "<style scoped>\n",
       "    .dataframe tbody tr th:only-of-type {\n",
       "        vertical-align: middle;\n",
       "    }\n",
       "\n",
       "    .dataframe tbody tr th {\n",
       "        vertical-align: top;\n",
       "    }\n",
       "\n",
       "    .dataframe thead th {\n",
       "        text-align: right;\n",
       "    }\n",
       "</style>\n",
       "<table border=\"1\" class=\"dataframe\">\n",
       "  <thead>\n",
       "    <tr style=\"text-align: right;\">\n",
       "      <th></th>\n",
       "      <th>property_id</th>\n",
       "      <th>prop_type</th>\n",
       "      <th>prop_sub_type</th>\n",
       "      <th>prop_status</th>\n",
       "      <th>price</th>\n",
       "      <th>baths_full</th>\n",
       "      <th>baths</th>\n",
       "      <th>beds</th>\n",
       "      <th>last_update</th>\n",
       "      <th>photo_count</th>\n",
       "      <th>...</th>\n",
       "      <th>state_code</th>\n",
       "      <th>county</th>\n",
       "      <th>lat</th>\n",
       "      <th>lon</th>\n",
       "      <th>neighborhood_name</th>\n",
       "      <th>buiding_size(sqft)</th>\n",
       "      <th>lot_size(sqft)</th>\n",
       "      <th>agent_id</th>\n",
       "      <th>agent_name</th>\n",
       "      <th>brand_name</th>\n",
       "    </tr>\n",
       "  </thead>\n",
       "  <tbody>\n",
       "    <tr>\n",
       "      <th>0</th>\n",
       "      <td>M4046594895</td>\n",
       "      <td>condo</td>\n",
       "      <td>duplex_triplex</td>\n",
       "      <td>for_sale</td>\n",
       "      <td>249900</td>\n",
       "      <td>3.0</td>\n",
       "      <td>3</td>\n",
       "      <td>6.0</td>\n",
       "      <td>2020-10-13T17:54:05Z</td>\n",
       "      <td>9</td>\n",
       "      <td>...</td>\n",
       "      <td>PA</td>\n",
       "      <td>Philadelphia</td>\n",
       "      <td>39.974408</td>\n",
       "      <td>-75.243700</td>\n",
       "      <td>West Philadelphia</td>\n",
       "      <td>1632.0</td>\n",
       "      <td>1842.0</td>\n",
       "      <td>1291281.0</td>\n",
       "      <td>Ausra Anusauskas</td>\n",
       "      <td>Archstone Realty</td>\n",
       "    </tr>\n",
       "    <tr>\n",
       "      <th>1</th>\n",
       "      <td>M3939384476</td>\n",
       "      <td>condo</td>\n",
       "      <td>townhomes</td>\n",
       "      <td>for_sale</td>\n",
       "      <td>116800</td>\n",
       "      <td>1.0</td>\n",
       "      <td>1</td>\n",
       "      <td>3.0</td>\n",
       "      <td>2020-10-13T18:18:18Z</td>\n",
       "      <td>7</td>\n",
       "      <td>...</td>\n",
       "      <td>PA</td>\n",
       "      <td>Philadelphia</td>\n",
       "      <td>39.926283</td>\n",
       "      <td>-75.225382</td>\n",
       "      <td>Southwest Philadelphia</td>\n",
       "      <td>1092.0</td>\n",
       "      <td>992.0</td>\n",
       "      <td>347285.0</td>\n",
       "      <td>Dr Hanh Vo</td>\n",
       "      <td>Vihi Realty</td>\n",
       "    </tr>\n",
       "    <tr>\n",
       "      <th>2</th>\n",
       "      <td>M4036371277</td>\n",
       "      <td>condo</td>\n",
       "      <td>townhomes</td>\n",
       "      <td>for_sale</td>\n",
       "      <td>215000</td>\n",
       "      <td>1.0</td>\n",
       "      <td>2</td>\n",
       "      <td>3.0</td>\n",
       "      <td>2020-10-13T17:24:20Z</td>\n",
       "      <td>35</td>\n",
       "      <td>...</td>\n",
       "      <td>PA</td>\n",
       "      <td>Philadelphia</td>\n",
       "      <td>40.039721</td>\n",
       "      <td>-75.142100</td>\n",
       "      <td>Upper North District</td>\n",
       "      <td>1360.0</td>\n",
       "      <td>1501.0</td>\n",
       "      <td>NaN</td>\n",
       "      <td>Kevin Chen</td>\n",
       "      <td>Premium Realty Castor Inc</td>\n",
       "    </tr>\n",
       "  </tbody>\n",
       "</table>\n",
       "<p>3 rows × 26 columns</p>\n",
       "</div>"
      ],
      "text/plain": [
       "   property_id prop_type   prop_sub_type prop_status   price  baths_full  \\\n",
       "0  M4046594895     condo  duplex_triplex    for_sale  249900         3.0   \n",
       "1  M3939384476     condo       townhomes    for_sale  116800         1.0   \n",
       "2  M4036371277     condo       townhomes    for_sale  215000         1.0   \n",
       "\n",
       "   baths  beds           last_update  photo_count  ...  state_code  \\\n",
       "0      3   6.0  2020-10-13T17:54:05Z            9  ...          PA   \n",
       "1      1   3.0  2020-10-13T18:18:18Z            7  ...          PA   \n",
       "2      2   3.0  2020-10-13T17:24:20Z           35  ...          PA   \n",
       "\n",
       "         county        lat        lon       neighborhood_name  \\\n",
       "0  Philadelphia  39.974408 -75.243700       West Philadelphia   \n",
       "1  Philadelphia  39.926283 -75.225382  Southwest Philadelphia   \n",
       "2  Philadelphia  40.039721 -75.142100    Upper North District   \n",
       "\n",
       "   buiding_size(sqft) lot_size(sqft)   agent_id        agent_name  \\\n",
       "0              1632.0         1842.0  1291281.0  Ausra Anusauskas   \n",
       "1              1092.0          992.0   347285.0        Dr Hanh Vo   \n",
       "2              1360.0         1501.0        NaN        Kevin Chen   \n",
       "\n",
       "                  brand_name  \n",
       "0           Archstone Realty  \n",
       "1                Vihi Realty  \n",
       "2  Premium Realty Castor Inc  \n",
       "\n",
       "[3 rows x 26 columns]"
      ]
     },
     "execution_count": 303,
     "metadata": {},
     "output_type": "execute_result"
    }
   ],
   "source": [
    "curr_df[:3]"
   ]
  },
  {
   "cell_type": "code",
   "execution_count": 304,
   "metadata": {},
   "outputs": [],
   "source": [
    "curr_df.rename(columns = {'postal_code':'zip_code'}, inplace=True)"
   ]
  },
  {
   "cell_type": "markdown",
   "metadata": {},
   "source": [
    "### Historical Listing Data"
   ]
  },
  {
   "cell_type": "code",
   "execution_count": 305,
   "metadata": {},
   "outputs": [],
   "source": [
    "hist_df = pd.read_csv('./hist_price_with_zip.csv')"
   ]
  },
  {
   "cell_type": "code",
   "execution_count": 306,
   "metadata": {},
   "outputs": [
    {
     "data": {
      "text/html": [
       "<div>\n",
       "<style scoped>\n",
       "    .dataframe tbody tr th:only-of-type {\n",
       "        vertical-align: middle;\n",
       "    }\n",
       "\n",
       "    .dataframe tbody tr th {\n",
       "        vertical-align: top;\n",
       "    }\n",
       "\n",
       "    .dataframe thead th {\n",
       "        text-align: right;\n",
       "    }\n",
       "</style>\n",
       "<table border=\"1\" class=\"dataframe\">\n",
       "  <thead>\n",
       "    <tr style=\"text-align: right;\">\n",
       "      <th></th>\n",
       "      <th>property_id</th>\n",
       "      <th>event_name</th>\n",
       "      <th>date</th>\n",
       "      <th>price</th>\n",
       "      <th>price_range_min</th>\n",
       "      <th>price_range_max</th>\n",
       "      <th>price_changed</th>\n",
       "      <th>sqft</th>\n",
       "      <th>datasource_name</th>\n",
       "      <th>source</th>\n",
       "      <th>listing</th>\n",
       "      <th>iso_date</th>\n",
       "      <th>listing_id</th>\n",
       "      <th>previous_event_price</th>\n",
       "      <th>postal_code</th>\n",
       "    </tr>\n",
       "  </thead>\n",
       "  <tbody>\n",
       "    <tr>\n",
       "      <th>0</th>\n",
       "      <td>M3392201642</td>\n",
       "      <td>Price Changed</td>\n",
       "      <td>2020-10-17T17:00:00Z</td>\n",
       "      <td>355000</td>\n",
       "      <td>NaN</td>\n",
       "      <td>NaN</td>\n",
       "      <td>5000</td>\n",
       "      <td>1750</td>\n",
       "      <td>BrightMLS</td>\n",
       "      <td>MLS #PAPH935838</td>\n",
       "      <td>NaN</td>\n",
       "      <td>NaN</td>\n",
       "      <td>NaN</td>\n",
       "      <td>NaN</td>\n",
       "      <td>19116</td>\n",
       "    </tr>\n",
       "    <tr>\n",
       "      <th>1</th>\n",
       "      <td>M3392201642</td>\n",
       "      <td>Listed</td>\n",
       "      <td>2020-10-11T17:00:00Z</td>\n",
       "      <td>350000</td>\n",
       "      <td>NaN</td>\n",
       "      <td>NaN</td>\n",
       "      <td>0</td>\n",
       "      <td>1750</td>\n",
       "      <td>BrightMLS</td>\n",
       "      <td>MLS #PAPH935838</td>\n",
       "      <td>NaN</td>\n",
       "      <td>NaN</td>\n",
       "      <td>NaN</td>\n",
       "      <td>NaN</td>\n",
       "      <td>19116</td>\n",
       "    </tr>\n",
       "    <tr>\n",
       "      <th>2</th>\n",
       "      <td>M3164904583</td>\n",
       "      <td>Listed</td>\n",
       "      <td>2020-10-11T17:00:00Z</td>\n",
       "      <td>149900</td>\n",
       "      <td>NaN</td>\n",
       "      <td>NaN</td>\n",
       "      <td>0</td>\n",
       "      <td>1176</td>\n",
       "      <td>BrightMLS</td>\n",
       "      <td>MLS #PAPH944164</td>\n",
       "      <td>NaN</td>\n",
       "      <td>NaN</td>\n",
       "      <td>NaN</td>\n",
       "      <td>NaN</td>\n",
       "      <td>19143</td>\n",
       "    </tr>\n",
       "    <tr>\n",
       "      <th>3</th>\n",
       "      <td>M3164904583</td>\n",
       "      <td>Sold</td>\n",
       "      <td>2002-03-18T17:00:00Z</td>\n",
       "      <td>70500</td>\n",
       "      <td>NaN</td>\n",
       "      <td>NaN</td>\n",
       "      <td>0</td>\n",
       "      <td>1176</td>\n",
       "      <td>NaN</td>\n",
       "      <td>Public Record</td>\n",
       "      <td>NaN</td>\n",
       "      <td>NaN</td>\n",
       "      <td>NaN</td>\n",
       "      <td>NaN</td>\n",
       "      <td>19143</td>\n",
       "    </tr>\n",
       "    <tr>\n",
       "      <th>4</th>\n",
       "      <td>M3164904583</td>\n",
       "      <td>Sold</td>\n",
       "      <td>1988-09-21T17:00:00Z</td>\n",
       "      <td>33900</td>\n",
       "      <td>NaN</td>\n",
       "      <td>NaN</td>\n",
       "      <td>0</td>\n",
       "      <td>1176</td>\n",
       "      <td>NaN</td>\n",
       "      <td>Public Record</td>\n",
       "      <td>NaN</td>\n",
       "      <td>NaN</td>\n",
       "      <td>NaN</td>\n",
       "      <td>NaN</td>\n",
       "      <td>19143</td>\n",
       "    </tr>\n",
       "  </tbody>\n",
       "</table>\n",
       "</div>"
      ],
      "text/plain": [
       "   property_id     event_name                  date   price  price_range_min  \\\n",
       "0  M3392201642  Price Changed  2020-10-17T17:00:00Z  355000              NaN   \n",
       "1  M3392201642         Listed  2020-10-11T17:00:00Z  350000              NaN   \n",
       "2  M3164904583         Listed  2020-10-11T17:00:00Z  149900              NaN   \n",
       "3  M3164904583           Sold  2002-03-18T17:00:00Z   70500              NaN   \n",
       "4  M3164904583           Sold  1988-09-21T17:00:00Z   33900              NaN   \n",
       "\n",
       "   price_range_max  price_changed  sqft datasource_name           source  \\\n",
       "0              NaN           5000  1750       BrightMLS  MLS #PAPH935838   \n",
       "1              NaN              0  1750       BrightMLS  MLS #PAPH935838   \n",
       "2              NaN              0  1176       BrightMLS  MLS #PAPH944164   \n",
       "3              NaN              0  1176             NaN    Public Record   \n",
       "4              NaN              0  1176             NaN    Public Record   \n",
       "\n",
       "  listing iso_date  listing_id  previous_event_price  postal_code  \n",
       "0     NaN      NaN         NaN                   NaN        19116  \n",
       "1     NaN      NaN         NaN                   NaN        19116  \n",
       "2     NaN      NaN         NaN                   NaN        19143  \n",
       "3     NaN      NaN         NaN                   NaN        19143  \n",
       "4     NaN      NaN         NaN                   NaN        19143  "
      ]
     },
     "execution_count": 306,
     "metadata": {},
     "output_type": "execute_result"
    }
   ],
   "source": [
    "hist_df.head()"
   ]
  },
  {
   "cell_type": "code",
   "execution_count": 307,
   "metadata": {},
   "outputs": [],
   "source": [
    "# Remove 'T00:00:00Z' from 'date'\n",
    "hist_df['date'] =  [re.sub('T(.*?)Z','', str(x)) for x in hist_df['date']]"
   ]
  },
  {
   "cell_type": "code",
   "execution_count": 308,
   "metadata": {},
   "outputs": [],
   "source": [
    "# Covnert 'date' to a datetime object\n",
    "hist_df['date'] = pd.to_datetime(hist_df['date'])"
   ]
  },
  {
   "cell_type": "code",
   "execution_count": 309,
   "metadata": {},
   "outputs": [],
   "source": [
    "hist_df.rename(columns = {'postal_code':'zip_code'}, inplace=True)"
   ]
  },
  {
   "cell_type": "markdown",
   "metadata": {},
   "source": [
    "### Subset properties listed from January 2019 - February 2020"
   ]
  },
  {
   "cell_type": "code",
   "execution_count": 310,
   "metadata": {},
   "outputs": [],
   "source": [
    "# Subset July 2019 - February 2020\n",
    "hist_19 = hist_df[hist_df['date'].isin(pd.date_range(start='2019-01-01', end='2020-02-29'))]"
   ]
  },
  {
   "cell_type": "code",
   "execution_count": 316,
   "metadata": {},
   "outputs": [
    {
     "name": "stdout",
     "output_type": "stream",
     "text": [
      "length of full hist_df = 60459\n",
      "length of df subset for January 2019 - February 2020 = 5728\n",
      "So we lose 54731 instsances after subsetting\n"
     ]
    }
   ],
   "source": [
    "print('length of full hist_df =', len(hist_df))\n",
    "print('length of df subset for January 2019 - February 2020 =', len(hist_19))\n",
    "print('So we lose %d instsances after subsetting' % (len(hist_df) - len(hist_19)))"
   ]
  },
  {
   "cell_type": "markdown",
   "metadata": {},
   "source": [
    "### Drop the extra listing data, keep the last listing."
   ]
  },
  {
   "cell_type": "code",
   "execution_count": 132,
   "metadata": {},
   "outputs": [],
   "source": [
    "final_hist = hist_19.sort_values('date').drop_duplicates('property_id',keep='last')"
   ]
  },
  {
   "cell_type": "code",
   "execution_count": 323,
   "metadata": {},
   "outputs": [
    {
     "name": "stdout",
     "output_type": "stream",
     "text": [
      "After keeping only the last listed piece of data for each property\n",
      "in our final historical dataset, we are left with 2493 instances.\n",
      "The dataset for the current listings has 9562 instances.\n"
     ]
    }
   ],
   "source": [
    "print('After keeping only the last listed piece of data for each property')\n",
    "print('in our final historical dataset, we are left with', len(final_hist['zip_code']), 'instances.')\n",
    "print('The dataset for the current listings has', len(curr_df), 'instances.')"
   ]
  },
  {
   "cell_type": "markdown",
   "metadata": {},
   "source": [
    "### Test outcomes by zip"
   ]
  },
  {
   "cell_type": "code",
   "execution_count": 324,
   "metadata": {},
   "outputs": [],
   "source": [
    "# Tests by zip\n",
    "url = 'https://phl.carto.com/api/v2/sql?q=SELECT * FROM covid_cases_by_zip'\n",
    "response = requests.request(\"GET\", url)\n",
    "test_zip = pd.json_normalize(response.json()['rows'])"
   ]
  },
  {
   "cell_type": "code",
   "execution_count": 325,
   "metadata": {},
   "outputs": [
    {
     "data": {
      "text/html": [
       "<div>\n",
       "<style scoped>\n",
       "    .dataframe tbody tr th:only-of-type {\n",
       "        vertical-align: middle;\n",
       "    }\n",
       "\n",
       "    .dataframe tbody tr th {\n",
       "        vertical-align: top;\n",
       "    }\n",
       "\n",
       "    .dataframe thead th {\n",
       "        text-align: right;\n",
       "    }\n",
       "</style>\n",
       "<table border=\"1\" class=\"dataframe\">\n",
       "  <thead>\n",
       "    <tr style=\"text-align: right;\">\n",
       "      <th></th>\n",
       "      <th>cartodb_id</th>\n",
       "      <th>the_geom</th>\n",
       "      <th>the_geom_webmercator</th>\n",
       "      <th>covid_status</th>\n",
       "      <th>zip_code</th>\n",
       "      <th>count</th>\n",
       "      <th>etl_timestamp</th>\n",
       "    </tr>\n",
       "  </thead>\n",
       "  <tbody>\n",
       "    <tr>\n",
       "      <th>0</th>\n",
       "      <td>1</td>\n",
       "      <td>None</td>\n",
       "      <td>None</td>\n",
       "      <td>NEG</td>\n",
       "      <td>19113</td>\n",
       "      <td>46</td>\n",
       "      <td>2020-11-12T18:20:02Z</td>\n",
       "    </tr>\n",
       "    <tr>\n",
       "      <th>1</th>\n",
       "      <td>2</td>\n",
       "      <td>None</td>\n",
       "      <td>None</td>\n",
       "      <td>POS</td>\n",
       "      <td>19154</td>\n",
       "      <td>1051</td>\n",
       "      <td>2020-11-12T18:20:02Z</td>\n",
       "    </tr>\n",
       "    <tr>\n",
       "      <th>2</th>\n",
       "      <td>3</td>\n",
       "      <td>None</td>\n",
       "      <td>None</td>\n",
       "      <td>POS</td>\n",
       "      <td>19132</td>\n",
       "      <td>1111</td>\n",
       "      <td>2020-11-12T18:20:02Z</td>\n",
       "    </tr>\n",
       "    <tr>\n",
       "      <th>3</th>\n",
       "      <td>4</td>\n",
       "      <td>None</td>\n",
       "      <td>None</td>\n",
       "      <td>NEG</td>\n",
       "      <td>19104</td>\n",
       "      <td>25455</td>\n",
       "      <td>2020-11-12T18:20:02Z</td>\n",
       "    </tr>\n",
       "    <tr>\n",
       "      <th>4</th>\n",
       "      <td>5</td>\n",
       "      <td>None</td>\n",
       "      <td>None</td>\n",
       "      <td>NEG</td>\n",
       "      <td>19101</td>\n",
       "      <td>221</td>\n",
       "      <td>2020-11-12T18:20:02Z</td>\n",
       "    </tr>\n",
       "  </tbody>\n",
       "</table>\n",
       "</div>"
      ],
      "text/plain": [
       "   cartodb_id the_geom the_geom_webmercator covid_status zip_code  count  \\\n",
       "0           1     None                 None          NEG    19113     46   \n",
       "1           2     None                 None          POS    19154   1051   \n",
       "2           3     None                 None          POS    19132   1111   \n",
       "3           4     None                 None          NEG    19104  25455   \n",
       "4           5     None                 None          NEG    19101    221   \n",
       "\n",
       "          etl_timestamp  \n",
       "0  2020-11-12T18:20:02Z  \n",
       "1  2020-11-12T18:20:02Z  \n",
       "2  2020-11-12T18:20:02Z  \n",
       "3  2020-11-12T18:20:02Z  \n",
       "4  2020-11-12T18:20:02Z  "
      ]
     },
     "execution_count": 325,
     "metadata": {},
     "output_type": "execute_result"
    }
   ],
   "source": [
    "test_zip.head()"
   ]
  },
  {
   "cell_type": "code",
   "execution_count": 326,
   "metadata": {},
   "outputs": [],
   "source": [
    "# Subset for positive tests\n",
    "pos_zip = test_zip[test_zip['covid_status'] == 'POS']"
   ]
  },
  {
   "cell_type": "code",
   "execution_count": 327,
   "metadata": {},
   "outputs": [
    {
     "data": {
      "text/plain": [
       "['19120', '19124', '19111', '19140']"
      ]
     },
     "execution_count": 327,
     "metadata": {},
     "output_type": "execute_result"
    }
   ],
   "source": [
    "# Top 5 zips by count\n",
    "top_5_zips = []\n",
    "\n",
    "for i in pos_zip.sort_values('count', ascending=False)[:4]['zip_code']:\n",
    "    top_5_zips.append(i)\n",
    "    \n",
    "top_5_zips"
   ]
  },
  {
   "cell_type": "code",
   "execution_count": 328,
   "metadata": {},
   "outputs": [
    {
     "data": {
      "text/plain": [
       "['19102', '19127', '19101', '19105']"
      ]
     },
     "execution_count": 328,
     "metadata": {},
     "output_type": "execute_result"
    }
   ],
   "source": [
    "# Bottom 5 zips by count\n",
    "bottom_5_zips = []\n",
    "\n",
    "for i in pos_zip.sort_values('count', ascending=False)[-4:]['zip_code']:\n",
    "    bottom_5_zips.append(i)\n",
    "    \n",
    "bottom_5_zips"
   ]
  },
  {
   "cell_type": "code",
   "execution_count": 73,
   "metadata": {},
   "outputs": [],
   "source": [
    "# pos_zip['zip_code'] = pos_zip['zip_code'].astype(int)"
   ]
  },
  {
   "cell_type": "markdown",
   "metadata": {},
   "source": [
    "### Subset the zips with the top 5 most positive case counts and the bottom 5 least positive case counts"
   ]
  },
  {
   "cell_type": "code",
   "execution_count": 329,
   "metadata": {},
   "outputs": [],
   "source": [
    "top5_hist = hist_19[hist_19['zip_code'].isin(top_5_zips)]\n",
    "bot5_hist = hist_19[hist_19['zip_code'].isin(bottom_5_zips)]"
   ]
  },
  {
   "cell_type": "code",
   "execution_count": 330,
   "metadata": {},
   "outputs": [],
   "source": [
    "top5_curr = curr_df[curr_df['zip_code'].isin(top_5_zips)]\n",
    "bot5_curr = curr_df[curr_df['zip_code'].isin(bottom_5_zips)]"
   ]
  },
  {
   "cell_type": "markdown",
   "metadata": {},
   "source": [
    "# Statistical Analysis"
   ]
  },
  {
   "cell_type": "code",
   "execution_count": 374,
   "metadata": {},
   "outputs": [
    {
     "data": {
      "image/png": "[encoded data removed]",
      "text/plain": [
       "<Figure size 1296x360 with 1 Axes>"
      ]
     },
     "metadata": {
      "needs_background": "light"
     },
     "output_type": "display_data"
    }
   ],
   "source": [
    "plt.subplots(figsize=(18,5))\n",
    "hist_prices_plot = sns.boxplot(final_hist['price'])\n",
    "hist_prices_plot.set(xticks=np.arange(0, 26000001, 2000000))\n",
    "hist_prices_plot.set_title('Boxplot for Listing Prices - 1/2019 to 2/2020')\n",
    "plt.ticklabel_format(style='plain', axis='x')\n",
    "plt.show()"
   ]
  },
  {
   "cell_type": "code",
   "execution_count": 380,
   "metadata": {},
   "outputs": [
    {
     "data": {
      "image/png": "[encoded data removed]",
      "text/plain": [
       "<Figure size 1296x360 with 1 Axes>"
      ]
     },
     "metadata": {
      "needs_background": "light"
     },
     "output_type": "display_data"
    }
   ],
   "source": [
    "plt.subplots(figsize=(18,5))\n",
    "hist_prices_histo = sns.distplot(final_hist['price'], kde=False, bins=75)\n",
    "hist_prices_histo.set_title('Histogram for Listing Prices - 1/2019 to 2/2020')\n",
    "hist_prices_histo.set(xticks=np.arange(0, 26000001, 2000000))\n",
    "plt.ticklabel_format(style='plain', axis='x')\n",
    "plt.show()"
   ]
  },
  {
   "cell_type": "code",
   "execution_count": 376,
   "metadata": {},
   "outputs": [
    {
     "data": {
      "image/png": "[encoded data removed]",
      "text/plain": [
       "<Figure size 1296x360 with 1 Axes>"
      ]
     },
     "metadata": {
      "needs_background": "light"
     },
     "output_type": "display_data"
    }
   ],
   "source": [
    "plt.subplots(figsize=(18,5))\n",
    "curr_prices_plot = sns.boxplot(curr_df['price'])\n",
    "curr_prices_plot.set(xticks=np.arange(0, 26000001, 2000000))\n",
    "curr_prices_plot.set_title('Boxplot for Listing Prices of Currently Listed Properties')\n",
    "plt.ticklabel_format(style='plain', axis='x')\n",
    "plt.show()"
   ]
  },
  {
   "cell_type": "code",
   "execution_count": 379,
   "metadata": {},
   "outputs": [
    {
     "data": {
      "image/png": "[encoded data removed]",
      "text/plain": [
       "<Figure size 1296x360 with 1 Axes>"
      ]
     },
     "metadata": {
      "needs_background": "light"
     },
     "output_type": "display_data"
    }
   ],
   "source": [
    "plt.subplots(figsize=(18,5))\n",
    "curr_prices_histo = sns.distplot(curr_df['price'], kde=False, bins=75)\n",
    "curr_prices_histo.set_title('Histogram for Listing Prices of Currently Listed Properties')\n",
    "curr_prices_histo.set(xticks=np.arange(0, 26000001, 2000000))\n",
    "plt.ticklabel_format(style='plain', axis='x')\n",
    "plt.show()"
   ]
  },
  {
   "cell_type": "code",
   "execution_count": 365,
   "metadata": {},
   "outputs": [
    {
     "name": "stdout",
     "output_type": "stream",
     "text": [
      "Descriptive statistics for the full historical dataset.\n"
     ]
    },
    {
     "data": {
      "text/plain": [
       "DescribeResult(nobs=2493, minmax=(900, 25000000), mean=381891.5286803049, variance=854534661057.5542, skewness=12.2668021425143, kurtosis=241.80308075608949)"
      ]
     },
     "execution_count": 365,
     "metadata": {},
     "output_type": "execute_result"
    }
   ],
   "source": [
    "print('Descriptive statistics for the full historical dataset.')\n",
    "stats.describe(final_hist['price'])"
   ]
  },
  {
   "cell_type": "code",
   "execution_count": 366,
   "metadata": {},
   "outputs": [
    {
     "name": "stdout",
     "output_type": "stream",
     "text": [
      "Descriptive statistics for the full current dataset.\n"
     ]
    },
    {
     "data": {
      "text/plain": [
       "DescribeResult(nobs=9562, minmax=(6000, 25000000), mean=381703.5611796695, variance=313156718177.5901, skewness=14.452907462413856, kurtosis=469.3509268783856)"
      ]
     },
     "execution_count": 366,
     "metadata": {},
     "output_type": "execute_result"
    }
   ],
   "source": [
    "print('Descriptive statistics for the full current dataset.')\n",
    "stats.describe(curr_df['price'])"
   ]
  },
  {
   "cell_type": "markdown",
   "metadata": {},
   "source": [
    "### Remove outliers in both datasets\n",
    "* We'll choose to get rid of listings greater than $900,000."
   ]
  },
  {
   "cell_type": "code",
   "execution_count": 339,
   "metadata": {},
   "outputs": [],
   "source": [
    "final_hist2 = final_hist[final_hist['price'] < 900000]"
   ]
  },
  {
   "cell_type": "code",
   "execution_count": 340,
   "metadata": {},
   "outputs": [],
   "source": [
    "curr_df2 = curr_df[curr_df['price'] < 900000]"
   ]
  },
  {
   "cell_type": "code",
   "execution_count": 381,
   "metadata": {},
   "outputs": [
    {
     "data": {
      "image/png": "[encoded data removed]",
      "text/plain": [
       "<Figure size 1296x360 with 1 Axes>"
      ]
     },
     "metadata": {
      "needs_background": "light"
     },
     "output_type": "display_data"
    }
   ],
   "source": [
    "plt.subplots(figsize=(18,5))\n",
    "hist_prices_plot = sns.boxplot(final_hist2['price'])\n",
    "hist_prices_plot.set(xticks=np.arange(0, 900001, 50000))\n",
    "hist_prices_plot.set_title('Boxplot for Listing Prices - 1/2019 to 2/2020\\n *Some Outliers Removed')\n",
    "plt.ticklabel_format(style='plain', axis='x')\n",
    "plt.show()"
   ]
  },
  {
   "cell_type": "code",
   "execution_count": 382,
   "metadata": {},
   "outputs": [
    {
     "data": {
      "image/png": "[encoded data removed]",
      "text/plain": [
       "<Figure size 1296x360 with 1 Axes>"
      ]
     },
     "metadata": {
      "needs_background": "light"
     },
     "output_type": "display_data"
    }
   ],
   "source": [
    "plt.subplots(figsize=(18,5))\n",
    "curr_prices_plot = sns.boxplot(curr_df2['price'])\n",
    "curr_prices_plot.set(xticks=np.arange(0, 900001, 50000))\n",
    "curr_prices_plot.set_title('Boxplot for Listing Prices of Currently Listed Properties\\n *Some Outliers Removed')\n",
    "plt.ticklabel_format(style='plain', axis='x')\n",
    "plt.show()"
   ]
  },
  {
   "cell_type": "code",
   "execution_count": 363,
   "metadata": {},
   "outputs": [
    {
     "name": "stdout",
     "output_type": "stream",
     "text": [
      "Descriptive statistics for the historical data with some outliers removed.\n"
     ]
    },
    {
     "data": {
      "text/plain": [
       "DescribeResult(nobs=2320, minmax=(900, 899900), mean=224190.11422413794, variance=37054673065.41816, skewness=1.1809450478949075, kurtosis=0.8331384196145772)"
      ]
     },
     "execution_count": 363,
     "metadata": {},
     "output_type": "execute_result"
    }
   ],
   "source": [
    "print('Descriptive statistics for the historical data with some outliers removed.')\n",
    "stats.describe(final_hist2['price'])"
   ]
  },
  {
   "cell_type": "code",
   "execution_count": 364,
   "metadata": {},
   "outputs": [
    {
     "name": "stdout",
     "output_type": "stream",
     "text": [
      "Descriptive statistics for the current data with some outliers removed.\n"
     ]
    },
    {
     "data": {
      "text/plain": [
       "DescribeResult(nobs=8984, minmax=(6000, 899999), mean=288463.20102404273, variance=35837855787.81599, skewness=0.8872424310694464, kurtosis=0.4016677938819764)"
      ]
     },
     "execution_count": 364,
     "metadata": {},
     "output_type": "execute_result"
    }
   ],
   "source": [
    "print('Descriptive statistics for the current data with some outliers removed.')\n",
    "stats.describe(curr_df2['price'])"
   ]
  },
  {
   "cell_type": "markdown",
   "metadata": {},
   "source": [
    "## Do we have equal variance for the full datasets?"
   ]
  },
  {
   "cell_type": "code",
   "execution_count": 352,
   "metadata": {},
   "outputs": [
    {
     "name": "stdout",
     "output_type": "stream",
     "text": [
      "BartlettResult(statistic=1181.551070969831, pvalue=6.234360610688021e-259) \n",
      "\n",
      "LeveneResult(statistic=22.254141468634682, pvalue=2.41525136944328e-06) \n",
      "\n",
      "FlignerResult(statistic=227.9618049165542, pvalue=1.659003770280044e-51)\n"
     ]
    }
   ],
   "source": [
    "print(stats.bartlett(final_hist['price'], curr_df['price']), '\\n')\n",
    "print(stats.levene(final_hist['price'], curr_df['price']), '\\n')\n",
    "print(stats.fligner(final_hist['price'], curr_df['price'], center='mean'))"
   ]
  },
  {
   "cell_type": "markdown",
   "metadata": {},
   "source": [
    "#### The small p-value in all three tests tells us that we do not have equal variance between the full datasets."
   ]
  },
  {
   "cell_type": "markdown",
   "metadata": {},
   "source": [
    "## Do we have equal variance for the datasets with some outliers removed?"
   ]
  },
  {
   "cell_type": "code",
   "execution_count": 353,
   "metadata": {},
   "outputs": [
    {
     "name": "stdout",
     "output_type": "stream",
     "text": [
      "BartlettResult(statistic=1.0340415120566444, pvalue=0.3092113193400671) \n",
      "\n",
      "LeveneResult(statistic=0.09343572298594785, pvalue=0.75985958622035) \n",
      "\n",
      "FlignerResult(statistic=0.9103168962954, pvalue=0.3400303507920644)\n"
     ]
    }
   ],
   "source": [
    "print(stats.bartlett(final_hist2['price'], curr_df2['price']), '\\n')\n",
    "print(stats.levene(final_hist2['price'], curr_df2['price']), '\\n')\n",
    "print(stats.fligner(final_hist2['price'], curr_df2['price'], center='mean'))"
   ]
  },
  {
   "cell_type": "markdown",
   "metadata": {},
   "source": [
    "### All three of the tests for equal varaince have large p-values, which suggests that we do have equal variance for our datasets with some outliers removed."
   ]
  },
  {
   "cell_type": "markdown",
   "metadata": {},
   "source": [
    "## Is the mean of the historical data equal to the mean of the current data - for the full datasets?"
   ]
  },
  {
   "cell_type": "code",
   "execution_count": 354,
   "metadata": {},
   "outputs": [
    {
     "data": {
      "text/plain": [
       "Ttest_indResult(statistic=0.009699828541209252, pvalue=0.992261426365225)"
      ]
     },
     "execution_count": 354,
     "metadata": {},
     "output_type": "execute_result"
    }
   ],
   "source": [
    "stats.ttest_ind(final_hist['price'], curr_df['price'], equal_var=False)"
   ]
  },
  {
   "cell_type": "markdown",
   "metadata": {},
   "source": [
    "### The large p-value tells us that we can accept the null hypothesis that the means are equal. We can conclude that the mean of listing prices before the pandemic is equal to the mean of prices during the pandemic when considering the full datasets."
   ]
  },
  {
   "cell_type": "code",
   "execution_count": 355,
   "metadata": {},
   "outputs": [
    {
     "data": {
      "text/plain": [
       "Ttest_indResult(statistic=-14.52825247868529, pvalue=2.1435395293392626e-47)"
      ]
     },
     "execution_count": 355,
     "metadata": {},
     "output_type": "execute_result"
    }
   ],
   "source": [
    "stats.ttest_ind(final_hist2['price'], curr_df2['price'], equal_var=True)"
   ]
  },
  {
   "cell_type": "markdown",
   "metadata": {},
   "source": [
    "### The small p-value tells us that we can reject the null hypothesis that the means are equal. We can conclude that the mean of listing prices before the pandemic is equal to the mean of listing prices during the pandemic when considering the datasets with some outliers removed."
   ]
  },
  {
   "cell_type": "code",
   "execution_count": null,
   "metadata": {},
   "outputs": [],
   "source": []
  },
  {
   "cell_type": "code",
   "execution_count": 356,
   "metadata": {},
   "outputs": [
    {
     "data": {
      "text/plain": [
       "Ttest_indResult(statistic=-2.6484333009208254, pvalue=0.008185553625873882)"
      ]
     },
     "execution_count": 356,
     "metadata": {},
     "output_type": "execute_result"
    }
   ],
   "source": [
    "stats.ttest_ind(top5_hist['price'], top5_curr['price'])"
   ]
  },
  {
   "cell_type": "code",
   "execution_count": 357,
   "metadata": {},
   "outputs": [
    {
     "data": {
      "text/plain": [
       "Ttest_indResult(statistic=0.30626042781601365, pvalue=0.7596524109248928)"
      ]
     },
     "execution_count": 357,
     "metadata": {},
     "output_type": "execute_result"
    }
   ],
   "source": [
    "stats.ttest_ind(bot5_hist['price'], bot5_curr['price'])"
   ]
  },
  {
   "cell_type": "code",
   "execution_count": null,
   "metadata": {},
   "outputs": [],
   "source": []
  }
 ],
 "metadata": {
  "kernelspec": {
   "display_name": "Python 3",
   "language": "python",
   "name": "python3"
  },
  "language_info": {
   "codemirror_mode": {
    "name": "ipython",
    "version": 3
   },
   "file_extension": ".py",
   "mimetype": "text/x-python",
   "name": "python",
   "nbconvert_exporter": "python",
   "pygments_lexer": "ipython3",
   "version": "3.7.6"
  }
 },
 "nbformat": 4,
 "nbformat_minor": 4
}
