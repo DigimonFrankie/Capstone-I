{
 "cells": [
  {
   "cell_type": "markdown",
   "metadata": {},
   "source": [
    "### *In this notebook we conduct analysis on real estate listing data in Philadlphia, PA for current listings and listings from January 2019 to February 2020. The purpose is to learn if there is a significant difference between the mean listing prices per square foot for the two datasets and ultimately determine if the COVID-19 pandemic has negatively effected the real estate market. Later in the analysis we look closer specifically at zip codes that were most and least effected by COVID-19. \"Most\" and \"least\" effected for this analysis is in reference to the number positive COVID-19 cases."
   ]
  },
  {
   "cell_type": "markdown",
   "metadata": {},
   "source": [
    "#### Analysis & Coding: Lawrence Love\n",
    "#### COVID-19 Data via opendataphilly.org API: Lawrence Love\n",
    "#### Historical Data via rapidapi.com: Frank Zhao\n",
    "#### Current Data via rapidapi.com: Jason Li\n",
    "Last Update: 11/20/20"
   ]
  },
  {
   "cell_type": "markdown",
   "metadata": {},
   "source": [
    "# Libraries"
   ]
  },
  {
   "cell_type": "code",
   "execution_count": 1,
   "metadata": {},
   "outputs": [],
   "source": [
    "import pandas as pd\n",
    "import numpy as np\n",
    "import matplotlib.pyplot as plt\n",
    "import matplotlib.style as style\n",
    "import seaborn as sns\n",
    "import re\n",
    "import json\n",
    "import requests\n",
    "from scipy import stats\n",
    "import statsmodels.stats.api as sms\n",
    "style.use('seaborn')"
   ]
  },
  {
   "cell_type": "markdown",
   "metadata": {},
   "source": [
    "## Current Listing Data"
   ]
  },
  {
   "cell_type": "code",
   "execution_count": 2,
   "metadata": {},
   "outputs": [],
   "source": [
    "curr_df = pd.read_csv('./update_df.csv')"
   ]
  },
  {
   "cell_type": "code",
   "execution_count": 3,
   "metadata": {},
   "outputs": [
    {
     "data": {
      "text/html": [
       "<div>\n",
       "<style scoped>\n",
       "    .dataframe tbody tr th:only-of-type {\n",
       "        vertical-align: middle;\n",
       "    }\n",
       "\n",
       "    .dataframe tbody tr th {\n",
       "        vertical-align: top;\n",
       "    }\n",
       "\n",
       "    .dataframe thead th {\n",
       "        text-align: right;\n",
       "    }\n",
       "</style>\n",
       "<table border=\"1\" class=\"dataframe\">\n",
       "  <thead>\n",
       "    <tr style=\"text-align: right;\">\n",
       "      <th></th>\n",
       "      <th>property_id</th>\n",
       "      <th>prop_type</th>\n",
       "      <th>prop_sub_type</th>\n",
       "      <th>prop_status</th>\n",
       "      <th>price</th>\n",
       "      <th>baths_full</th>\n",
       "      <th>baths</th>\n",
       "      <th>beds</th>\n",
       "      <th>last_update</th>\n",
       "      <th>photo_count</th>\n",
       "      <th>...</th>\n",
       "      <th>state_code</th>\n",
       "      <th>county</th>\n",
       "      <th>lat</th>\n",
       "      <th>lon</th>\n",
       "      <th>neighborhood_name</th>\n",
       "      <th>buiding_size(sqft)</th>\n",
       "      <th>lot_size(sqft)</th>\n",
       "      <th>agent_id</th>\n",
       "      <th>agent_name</th>\n",
       "      <th>brand_name</th>\n",
       "    </tr>\n",
       "  </thead>\n",
       "  <tbody>\n",
       "    <tr>\n",
       "      <th>0</th>\n",
       "      <td>M4046594895</td>\n",
       "      <td>condo</td>\n",
       "      <td>duplex_triplex</td>\n",
       "      <td>for_sale</td>\n",
       "      <td>249900</td>\n",
       "      <td>3.0</td>\n",
       "      <td>3</td>\n",
       "      <td>6.0</td>\n",
       "      <td>2020-10-13T17:54:05Z</td>\n",
       "      <td>9</td>\n",
       "      <td>...</td>\n",
       "      <td>PA</td>\n",
       "      <td>Philadelphia</td>\n",
       "      <td>39.974408</td>\n",
       "      <td>-75.243700</td>\n",
       "      <td>West Philadelphia</td>\n",
       "      <td>1632.0</td>\n",
       "      <td>1842.0</td>\n",
       "      <td>1291281.0</td>\n",
       "      <td>Ausra Anusauskas</td>\n",
       "      <td>Archstone Realty</td>\n",
       "    </tr>\n",
       "    <tr>\n",
       "      <th>1</th>\n",
       "      <td>M3939384476</td>\n",
       "      <td>condo</td>\n",
       "      <td>townhomes</td>\n",
       "      <td>for_sale</td>\n",
       "      <td>116800</td>\n",
       "      <td>1.0</td>\n",
       "      <td>1</td>\n",
       "      <td>3.0</td>\n",
       "      <td>2020-10-13T18:18:18Z</td>\n",
       "      <td>7</td>\n",
       "      <td>...</td>\n",
       "      <td>PA</td>\n",
       "      <td>Philadelphia</td>\n",
       "      <td>39.926283</td>\n",
       "      <td>-75.225382</td>\n",
       "      <td>Southwest Philadelphia</td>\n",
       "      <td>1092.0</td>\n",
       "      <td>992.0</td>\n",
       "      <td>347285.0</td>\n",
       "      <td>Dr Hanh Vo</td>\n",
       "      <td>Vihi Realty</td>\n",
       "    </tr>\n",
       "    <tr>\n",
       "      <th>2</th>\n",
       "      <td>M4036371277</td>\n",
       "      <td>condo</td>\n",
       "      <td>townhomes</td>\n",
       "      <td>for_sale</td>\n",
       "      <td>215000</td>\n",
       "      <td>1.0</td>\n",
       "      <td>2</td>\n",
       "      <td>3.0</td>\n",
       "      <td>2020-10-13T17:24:20Z</td>\n",
       "      <td>35</td>\n",
       "      <td>...</td>\n",
       "      <td>PA</td>\n",
       "      <td>Philadelphia</td>\n",
       "      <td>40.039721</td>\n",
       "      <td>-75.142100</td>\n",
       "      <td>Upper North District</td>\n",
       "      <td>1360.0</td>\n",
       "      <td>1501.0</td>\n",
       "      <td>NaN</td>\n",
       "      <td>Kevin Chen</td>\n",
       "      <td>Premium Realty Castor Inc</td>\n",
       "    </tr>\n",
       "  </tbody>\n",
       "</table>\n",
       "<p>3 rows × 26 columns</p>\n",
       "</div>"
      ],
      "text/plain": [
       "   property_id prop_type   prop_sub_type prop_status   price  baths_full  \\\n",
       "0  M4046594895     condo  duplex_triplex    for_sale  249900         3.0   \n",
       "1  M3939384476     condo       townhomes    for_sale  116800         1.0   \n",
       "2  M4036371277     condo       townhomes    for_sale  215000         1.0   \n",
       "\n",
       "   baths  beds           last_update  photo_count  ...  state_code  \\\n",
       "0      3   6.0  2020-10-13T17:54:05Z            9  ...          PA   \n",
       "1      1   3.0  2020-10-13T18:18:18Z            7  ...          PA   \n",
       "2      2   3.0  2020-10-13T17:24:20Z           35  ...          PA   \n",
       "\n",
       "         county        lat        lon       neighborhood_name  \\\n",
       "0  Philadelphia  39.974408 -75.243700       West Philadelphia   \n",
       "1  Philadelphia  39.926283 -75.225382  Southwest Philadelphia   \n",
       "2  Philadelphia  40.039721 -75.142100    Upper North District   \n",
       "\n",
       "   buiding_size(sqft) lot_size(sqft)   agent_id        agent_name  \\\n",
       "0              1632.0         1842.0  1291281.0  Ausra Anusauskas   \n",
       "1              1092.0          992.0   347285.0        Dr Hanh Vo   \n",
       "2              1360.0         1501.0        NaN        Kevin Chen   \n",
       "\n",
       "                  brand_name  \n",
       "0           Archstone Realty  \n",
       "1                Vihi Realty  \n",
       "2  Premium Realty Castor Inc  \n",
       "\n",
       "[3 rows x 26 columns]"
      ]
     },
     "execution_count": 3,
     "metadata": {},
     "output_type": "execute_result"
    }
   ],
   "source": [
    "curr_df[:3]"
   ]
  },
  {
   "cell_type": "code",
   "execution_count": 4,
   "metadata": {},
   "outputs": [],
   "source": [
    "curr_df.rename(columns = {'postal_code':'zip_code'}, inplace=True)\n",
    "curr_df.rename(columns = {'buiding_size(sqft)':'building_size(sqft)'}, inplace=True)"
   ]
  },
  {
   "cell_type": "markdown",
   "metadata": {},
   "source": [
    "#### Create price per square foot for building size"
   ]
  },
  {
   "cell_type": "code",
   "execution_count": 5,
   "metadata": {},
   "outputs": [
    {
     "data": {
      "text/plain": [
       "9562"
      ]
     },
     "execution_count": 5,
     "metadata": {},
     "output_type": "execute_result"
    }
   ],
   "source": [
    "len(curr_df)"
   ]
  },
  {
   "cell_type": "code",
   "execution_count": 6,
   "metadata": {},
   "outputs": [],
   "source": [
    "curr_df = curr_df.dropna(subset=['building_size(sqft)'])"
   ]
  },
  {
   "cell_type": "code",
   "execution_count": 7,
   "metadata": {},
   "outputs": [],
   "source": [
    "curr_df = curr_df[curr_df['building_size(sqft)'] > 0]"
   ]
  },
  {
   "cell_type": "code",
   "execution_count": 8,
   "metadata": {},
   "outputs": [
    {
     "data": {
      "text/plain": [
       "8180"
      ]
     },
     "execution_count": 8,
     "metadata": {},
     "output_type": "execute_result"
    }
   ],
   "source": [
    "len(curr_df)"
   ]
  },
  {
   "cell_type": "code",
   "execution_count": 9,
   "metadata": {},
   "outputs": [],
   "source": [
    "curr_df['price_per_sqft'] = round(curr_df['price'] / curr_df['building_size(sqft)'],2)"
   ]
  },
  {
   "cell_type": "code",
   "execution_count": 10,
   "metadata": {},
   "outputs": [
    {
     "data": {
      "text/plain": [
       "count    8180.000000\n",
       "mean      242.507064\n",
       "std       166.090836\n",
       "min         0.300000\n",
       "25%       146.240000\n",
       "50%       210.000000\n",
       "75%       299.977500\n",
       "max      3846.150000\n",
       "Name: price_per_sqft, dtype: float64"
      ]
     },
     "execution_count": 10,
     "metadata": {},
     "output_type": "execute_result"
    }
   ],
   "source": [
    "curr_df['price_per_sqft'].describe()"
   ]
  },
  {
   "cell_type": "markdown",
   "metadata": {},
   "source": [
    "## Historical Listing Data"
   ]
  },
  {
   "cell_type": "code",
   "execution_count": 11,
   "metadata": {},
   "outputs": [],
   "source": [
    "hist_df = pd.read_csv('./hist_price_with_zip.csv')"
   ]
  },
  {
   "cell_type": "code",
   "execution_count": 12,
   "metadata": {},
   "outputs": [
    {
     "data": {
      "text/html": [
       "<div>\n",
       "<style scoped>\n",
       "    .dataframe tbody tr th:only-of-type {\n",
       "        vertical-align: middle;\n",
       "    }\n",
       "\n",
       "    .dataframe tbody tr th {\n",
       "        vertical-align: top;\n",
       "    }\n",
       "\n",
       "    .dataframe thead th {\n",
       "        text-align: right;\n",
       "    }\n",
       "</style>\n",
       "<table border=\"1\" class=\"dataframe\">\n",
       "  <thead>\n",
       "    <tr style=\"text-align: right;\">\n",
       "      <th></th>\n",
       "      <th>property_id</th>\n",
       "      <th>event_name</th>\n",
       "      <th>date</th>\n",
       "      <th>price</th>\n",
       "      <th>price_range_min</th>\n",
       "      <th>price_range_max</th>\n",
       "      <th>price_changed</th>\n",
       "      <th>sqft</th>\n",
       "      <th>datasource_name</th>\n",
       "      <th>source</th>\n",
       "      <th>listing</th>\n",
       "      <th>iso_date</th>\n",
       "      <th>listing_id</th>\n",
       "      <th>previous_event_price</th>\n",
       "      <th>postal_code</th>\n",
       "    </tr>\n",
       "  </thead>\n",
       "  <tbody>\n",
       "    <tr>\n",
       "      <th>0</th>\n",
       "      <td>M3392201642</td>\n",
       "      <td>Price Changed</td>\n",
       "      <td>2020-10-17T17:00:00Z</td>\n",
       "      <td>355000</td>\n",
       "      <td>NaN</td>\n",
       "      <td>NaN</td>\n",
       "      <td>5000</td>\n",
       "      <td>1750</td>\n",
       "      <td>BrightMLS</td>\n",
       "      <td>MLS #PAPH935838</td>\n",
       "      <td>NaN</td>\n",
       "      <td>NaN</td>\n",
       "      <td>NaN</td>\n",
       "      <td>NaN</td>\n",
       "      <td>19116</td>\n",
       "    </tr>\n",
       "    <tr>\n",
       "      <th>1</th>\n",
       "      <td>M3392201642</td>\n",
       "      <td>Listed</td>\n",
       "      <td>2020-10-11T17:00:00Z</td>\n",
       "      <td>350000</td>\n",
       "      <td>NaN</td>\n",
       "      <td>NaN</td>\n",
       "      <td>0</td>\n",
       "      <td>1750</td>\n",
       "      <td>BrightMLS</td>\n",
       "      <td>MLS #PAPH935838</td>\n",
       "      <td>NaN</td>\n",
       "      <td>NaN</td>\n",
       "      <td>NaN</td>\n",
       "      <td>NaN</td>\n",
       "      <td>19116</td>\n",
       "    </tr>\n",
       "    <tr>\n",
       "      <th>2</th>\n",
       "      <td>M3164904583</td>\n",
       "      <td>Listed</td>\n",
       "      <td>2020-10-11T17:00:00Z</td>\n",
       "      <td>149900</td>\n",
       "      <td>NaN</td>\n",
       "      <td>NaN</td>\n",
       "      <td>0</td>\n",
       "      <td>1176</td>\n",
       "      <td>BrightMLS</td>\n",
       "      <td>MLS #PAPH944164</td>\n",
       "      <td>NaN</td>\n",
       "      <td>NaN</td>\n",
       "      <td>NaN</td>\n",
       "      <td>NaN</td>\n",
       "      <td>19143</td>\n",
       "    </tr>\n",
       "    <tr>\n",
       "      <th>3</th>\n",
       "      <td>M3164904583</td>\n",
       "      <td>Sold</td>\n",
       "      <td>2002-03-18T17:00:00Z</td>\n",
       "      <td>70500</td>\n",
       "      <td>NaN</td>\n",
       "      <td>NaN</td>\n",
       "      <td>0</td>\n",
       "      <td>1176</td>\n",
       "      <td>NaN</td>\n",
       "      <td>Public Record</td>\n",
       "      <td>NaN</td>\n",
       "      <td>NaN</td>\n",
       "      <td>NaN</td>\n",
       "      <td>NaN</td>\n",
       "      <td>19143</td>\n",
       "    </tr>\n",
       "    <tr>\n",
       "      <th>4</th>\n",
       "      <td>M3164904583</td>\n",
       "      <td>Sold</td>\n",
       "      <td>1988-09-21T17:00:00Z</td>\n",
       "      <td>33900</td>\n",
       "      <td>NaN</td>\n",
       "      <td>NaN</td>\n",
       "      <td>0</td>\n",
       "      <td>1176</td>\n",
       "      <td>NaN</td>\n",
       "      <td>Public Record</td>\n",
       "      <td>NaN</td>\n",
       "      <td>NaN</td>\n",
       "      <td>NaN</td>\n",
       "      <td>NaN</td>\n",
       "      <td>19143</td>\n",
       "    </tr>\n",
       "  </tbody>\n",
       "</table>\n",
       "</div>"
      ],
      "text/plain": [
       "   property_id     event_name                  date   price  price_range_min  \\\n",
       "0  M3392201642  Price Changed  2020-10-17T17:00:00Z  355000              NaN   \n",
       "1  M3392201642         Listed  2020-10-11T17:00:00Z  350000              NaN   \n",
       "2  M3164904583         Listed  2020-10-11T17:00:00Z  149900              NaN   \n",
       "3  M3164904583           Sold  2002-03-18T17:00:00Z   70500              NaN   \n",
       "4  M3164904583           Sold  1988-09-21T17:00:00Z   33900              NaN   \n",
       "\n",
       "   price_range_max  price_changed  sqft datasource_name           source  \\\n",
       "0              NaN           5000  1750       BrightMLS  MLS #PAPH935838   \n",
       "1              NaN              0  1750       BrightMLS  MLS #PAPH935838   \n",
       "2              NaN              0  1176       BrightMLS  MLS #PAPH944164   \n",
       "3              NaN              0  1176             NaN    Public Record   \n",
       "4              NaN              0  1176             NaN    Public Record   \n",
       "\n",
       "  listing iso_date  listing_id  previous_event_price  postal_code  \n",
       "0     NaN      NaN         NaN                   NaN        19116  \n",
       "1     NaN      NaN         NaN                   NaN        19116  \n",
       "2     NaN      NaN         NaN                   NaN        19143  \n",
       "3     NaN      NaN         NaN                   NaN        19143  \n",
       "4     NaN      NaN         NaN                   NaN        19143  "
      ]
     },
     "execution_count": 12,
     "metadata": {},
     "output_type": "execute_result"
    }
   ],
   "source": [
    "hist_df.head()"
   ]
  },
  {
   "cell_type": "code",
   "execution_count": 13,
   "metadata": {},
   "outputs": [],
   "source": [
    "# Remove 'T00:00:00Z' from 'date'\n",
    "hist_df['date'] =  [re.sub('T(.*?)Z','', str(x)) for x in hist_df['date']]"
   ]
  },
  {
   "cell_type": "code",
   "execution_count": 14,
   "metadata": {},
   "outputs": [],
   "source": [
    "# Covnert 'date' to a datetime object\n",
    "hist_df['date'] = pd.to_datetime(hist_df['date'])"
   ]
  },
  {
   "cell_type": "code",
   "execution_count": 15,
   "metadata": {},
   "outputs": [],
   "source": [
    "hist_df.rename(columns = {'postal_code':'zip_code'}, inplace=True)"
   ]
  },
  {
   "cell_type": "markdown",
   "metadata": {},
   "source": [
    "#### Create price per square foot variable"
   ]
  },
  {
   "cell_type": "code",
   "execution_count": 16,
   "metadata": {},
   "outputs": [],
   "source": [
    "hist_df = hist_df.dropna(subset=['sqft'])\n",
    "hist_df = hist_df[hist_df['sqft'] > 0]"
   ]
  },
  {
   "cell_type": "code",
   "execution_count": 17,
   "metadata": {},
   "outputs": [],
   "source": [
    "hist_df['price_per_sqft'] = round(hist_df['price'] / hist_df['sqft'],2)"
   ]
  },
  {
   "cell_type": "markdown",
   "metadata": {},
   "source": [
    "### Subset properties listed from January 2019 - February 2020"
   ]
  },
  {
   "cell_type": "code",
   "execution_count": 18,
   "metadata": {},
   "outputs": [],
   "source": [
    "hist_19 = hist_df[hist_df['date'].isin(pd.date_range(start='2019-01-01', end='2020-02-29'))]"
   ]
  },
  {
   "cell_type": "code",
   "execution_count": 19,
   "metadata": {},
   "outputs": [
    {
     "name": "stdout",
     "output_type": "stream",
     "text": [
      "length of full hist_df = 50932\n",
      "length of df subset for January 2019 - February 2020 = 4164\n",
      "So we lose 46768 instsances after subsetting\n"
     ]
    }
   ],
   "source": [
    "print('length of full hist_df =', len(hist_df))\n",
    "print('length of df subset for January 2019 - February 2020 =', len(hist_19))\n",
    "print('So we lose %d instsances after subsetting' % (len(hist_df) - len(hist_19)))"
   ]
  },
  {
   "cell_type": "markdown",
   "metadata": {},
   "source": [
    "### Drop the extra listing data, keep the most recent listing."
   ]
  },
  {
   "cell_type": "code",
   "execution_count": 20,
   "metadata": {},
   "outputs": [],
   "source": [
    "final_hist = hist_19.sort_values('date').drop_duplicates('property_id',keep='last')"
   ]
  },
  {
   "cell_type": "code",
   "execution_count": 21,
   "metadata": {},
   "outputs": [
    {
     "name": "stdout",
     "output_type": "stream",
     "text": [
      "After keeping only the last listed piece of data for each property\n",
      "in our final historical dataset, we are left with 1768 instances.\n",
      "The dataset for the current listings has 8180 instances.\n"
     ]
    }
   ],
   "source": [
    "print('After keeping only the last listed piece of data for each property')\n",
    "print('in our final historical dataset, we are left with', len(final_hist['zip_code']), 'instances.')\n",
    "print('The dataset for the current listings has', len(curr_df), 'instances.')"
   ]
  },
  {
   "cell_type": "markdown",
   "metadata": {},
   "source": [
    "## Test outcomes by zip"
   ]
  },
  {
   "cell_type": "code",
   "execution_count": 22,
   "metadata": {},
   "outputs": [],
   "source": [
    "url = 'https://phl.carto.com/api/v2/sql?q=SELECT * FROM covid_cases_by_zip'\n",
    "response = requests.request(\"GET\", url)\n",
    "test_zip = pd.json_normalize(response.json()['rows'])"
   ]
  },
  {
   "cell_type": "code",
   "execution_count": 23,
   "metadata": {},
   "outputs": [
    {
     "data": {
      "text/html": [
       "<div>\n",
       "<style scoped>\n",
       "    .dataframe tbody tr th:only-of-type {\n",
       "        vertical-align: middle;\n",
       "    }\n",
       "\n",
       "    .dataframe tbody tr th {\n",
       "        vertical-align: top;\n",
       "    }\n",
       "\n",
       "    .dataframe thead th {\n",
       "        text-align: right;\n",
       "    }\n",
       "</style>\n",
       "<table border=\"1\" class=\"dataframe\">\n",
       "  <thead>\n",
       "    <tr style=\"text-align: right;\">\n",
       "      <th></th>\n",
       "      <th>cartodb_id</th>\n",
       "      <th>the_geom</th>\n",
       "      <th>the_geom_webmercator</th>\n",
       "      <th>covid_status</th>\n",
       "      <th>zip_code</th>\n",
       "      <th>count</th>\n",
       "      <th>etl_timestamp</th>\n",
       "    </tr>\n",
       "  </thead>\n",
       "  <tbody>\n",
       "    <tr>\n",
       "      <th>0</th>\n",
       "      <td>1</td>\n",
       "      <td>None</td>\n",
       "      <td>None</td>\n",
       "      <td>POS</td>\n",
       "      <td>19107</td>\n",
       "      <td>473</td>\n",
       "      <td>2020-11-19T18:20:03Z</td>\n",
       "    </tr>\n",
       "    <tr>\n",
       "      <th>1</th>\n",
       "      <td>2</td>\n",
       "      <td>None</td>\n",
       "      <td>None</td>\n",
       "      <td>NEG</td>\n",
       "      <td>19116</td>\n",
       "      <td>11866</td>\n",
       "      <td>2020-11-19T18:20:03Z</td>\n",
       "    </tr>\n",
       "    <tr>\n",
       "      <th>2</th>\n",
       "      <td>3</td>\n",
       "      <td>None</td>\n",
       "      <td>None</td>\n",
       "      <td>NEG</td>\n",
       "      <td>19126</td>\n",
       "      <td>8419</td>\n",
       "      <td>2020-11-19T18:20:03Z</td>\n",
       "    </tr>\n",
       "    <tr>\n",
       "      <th>3</th>\n",
       "      <td>4</td>\n",
       "      <td>None</td>\n",
       "      <td>None</td>\n",
       "      <td>NEG</td>\n",
       "      <td>19160</td>\n",
       "      <td>36</td>\n",
       "      <td>2020-11-19T18:20:03Z</td>\n",
       "    </tr>\n",
       "    <tr>\n",
       "      <th>4</th>\n",
       "      <td>5</td>\n",
       "      <td>None</td>\n",
       "      <td>None</td>\n",
       "      <td>NEG</td>\n",
       "      <td>19113</td>\n",
       "      <td>52</td>\n",
       "      <td>2020-11-19T18:20:03Z</td>\n",
       "    </tr>\n",
       "  </tbody>\n",
       "</table>\n",
       "</div>"
      ],
      "text/plain": [
       "   cartodb_id the_geom the_geom_webmercator covid_status zip_code  count  \\\n",
       "0           1     None                 None          POS    19107    473   \n",
       "1           2     None                 None          NEG    19116  11866   \n",
       "2           3     None                 None          NEG    19126   8419   \n",
       "3           4     None                 None          NEG    19160     36   \n",
       "4           5     None                 None          NEG    19113     52   \n",
       "\n",
       "          etl_timestamp  \n",
       "0  2020-11-19T18:20:03Z  \n",
       "1  2020-11-19T18:20:03Z  \n",
       "2  2020-11-19T18:20:03Z  \n",
       "3  2020-11-19T18:20:03Z  \n",
       "4  2020-11-19T18:20:03Z  "
      ]
     },
     "execution_count": 23,
     "metadata": {},
     "output_type": "execute_result"
    }
   ],
   "source": [
    "test_zip.head()"
   ]
  },
  {
   "cell_type": "code",
   "execution_count": 24,
   "metadata": {},
   "outputs": [],
   "source": [
    "# Subset for positive tests\n",
    "pos_zip = test_zip[test_zip['covid_status'] == 'POS']"
   ]
  },
  {
   "cell_type": "code",
   "execution_count": 25,
   "metadata": {},
   "outputs": [
    {
     "data": {
      "text/html": [
       "<div>\n",
       "<style scoped>\n",
       "    .dataframe tbody tr th:only-of-type {\n",
       "        vertical-align: middle;\n",
       "    }\n",
       "\n",
       "    .dataframe tbody tr th {\n",
       "        vertical-align: top;\n",
       "    }\n",
       "\n",
       "    .dataframe thead th {\n",
       "        text-align: right;\n",
       "    }\n",
       "</style>\n",
       "<table border=\"1\" class=\"dataframe\">\n",
       "  <thead>\n",
       "    <tr style=\"text-align: right;\">\n",
       "      <th></th>\n",
       "      <th>cartodb_id</th>\n",
       "      <th>the_geom</th>\n",
       "      <th>the_geom_webmercator</th>\n",
       "      <th>covid_status</th>\n",
       "      <th>zip_code</th>\n",
       "      <th>count</th>\n",
       "      <th>etl_timestamp</th>\n",
       "    </tr>\n",
       "  </thead>\n",
       "  <tbody>\n",
       "    <tr>\n",
       "      <th>65</th>\n",
       "      <td>66</td>\n",
       "      <td>None</td>\n",
       "      <td>None</td>\n",
       "      <td>POS</td>\n",
       "      <td>19124</td>\n",
       "      <td>2865</td>\n",
       "      <td>2020-11-19T18:20:03Z</td>\n",
       "    </tr>\n",
       "    <tr>\n",
       "      <th>78</th>\n",
       "      <td>79</td>\n",
       "      <td>None</td>\n",
       "      <td>None</td>\n",
       "      <td>POS</td>\n",
       "      <td>19120</td>\n",
       "      <td>2846</td>\n",
       "      <td>2020-11-19T18:20:03Z</td>\n",
       "    </tr>\n",
       "    <tr>\n",
       "      <th>19</th>\n",
       "      <td>20</td>\n",
       "      <td>None</td>\n",
       "      <td>None</td>\n",
       "      <td>POS</td>\n",
       "      <td>19111</td>\n",
       "      <td>2702</td>\n",
       "      <td>2020-11-19T18:20:03Z</td>\n",
       "    </tr>\n",
       "    <tr>\n",
       "      <th>106</th>\n",
       "      <td>107</td>\n",
       "      <td>None</td>\n",
       "      <td>None</td>\n",
       "      <td>POS</td>\n",
       "      <td>19140</td>\n",
       "      <td>2281</td>\n",
       "      <td>2020-11-19T18:20:03Z</td>\n",
       "    </tr>\n",
       "    <tr>\n",
       "      <th>50</th>\n",
       "      <td>51</td>\n",
       "      <td>None</td>\n",
       "      <td>None</td>\n",
       "      <td>POS</td>\n",
       "      <td>19143</td>\n",
       "      <td>2214</td>\n",
       "      <td>2020-11-19T18:20:03Z</td>\n",
       "    </tr>\n",
       "  </tbody>\n",
       "</table>\n",
       "</div>"
      ],
      "text/plain": [
       "     cartodb_id the_geom the_geom_webmercator covid_status zip_code  count  \\\n",
       "65           66     None                 None          POS    19124   2865   \n",
       "78           79     None                 None          POS    19120   2846   \n",
       "19           20     None                 None          POS    19111   2702   \n",
       "106         107     None                 None          POS    19140   2281   \n",
       "50           51     None                 None          POS    19143   2214   \n",
       "\n",
       "            etl_timestamp  \n",
       "65   2020-11-19T18:20:03Z  \n",
       "78   2020-11-19T18:20:03Z  \n",
       "19   2020-11-19T18:20:03Z  \n",
       "106  2020-11-19T18:20:03Z  \n",
       "50   2020-11-19T18:20:03Z  "
      ]
     },
     "execution_count": 25,
     "metadata": {},
     "output_type": "execute_result"
    }
   ],
   "source": [
    "pos_zip.sort_values('count', ascending=False).head()"
   ]
  },
  {
   "cell_type": "markdown",
   "metadata": {},
   "source": [
    "### Subset the zip codes with the top 10 highest number of positive case counts, and bottom 10 lowest number of positive case counts."
   ]
  },
  {
   "cell_type": "code",
   "execution_count": 26,
   "metadata": {},
   "outputs": [],
   "source": [
    "# Top 10 zips by count\n",
    "top_10_zips = []\n",
    "\n",
    "for i in pos_zip.sort_values('count', ascending=False)[:10]['zip_code']:\n",
    "    top_10_zips.append(i)"
   ]
  },
  {
   "cell_type": "code",
   "execution_count": 27,
   "metadata": {},
   "outputs": [],
   "source": [
    "# Bottom 10 zips by count\n",
    "bottom_10_zips = []\n",
    "\n",
    "for i in pos_zip.sort_values('count', ascending=False)[-10:]['zip_code']:\n",
    "    bottom_10_zips.append(i)"
   ]
  },
  {
   "cell_type": "code",
   "execution_count": 28,
   "metadata": {},
   "outputs": [],
   "source": [
    "top10_hist = final_hist[final_hist['zip_code'].isin(top_10_zips)]\n",
    "bot10_hist = final_hist[final_hist['zip_code'].isin(bottom_10_zips)]"
   ]
  },
  {
   "cell_type": "code",
   "execution_count": 29,
   "metadata": {},
   "outputs": [],
   "source": [
    "top10_curr = curr_df[curr_df['zip_code'].isin(top_10_zips)]\n",
    "bot10_curr = curr_df[curr_df['zip_code'].isin(bottom_10_zips)]"
   ]
  },
  {
   "cell_type": "markdown",
   "metadata": {},
   "source": [
    "# Statistical analysis on full datasets, and on datasets with some outliers removed."
   ]
  },
  {
   "cell_type": "markdown",
   "metadata": {},
   "source": [
    "### Boxplots - Full Datasets"
   ]
  },
  {
   "cell_type": "code",
   "execution_count": 30,
   "metadata": {},
   "outputs": [
    {
     "data": {
      "image/png": "[encoded data removed]",
      "text/plain": [
       "<Figure size 1152x720 with 2 Axes>"
      ]
     },
     "metadata": {},
     "output_type": "display_data"
    }
   ],
   "source": [
    "fig = plt.figure()\n",
    "fig.set_figheight(10)\n",
    "fig.set_figwidth(16)\n",
    "ax = fig.add_subplot(2, 1, 1)\n",
    "final_hist_prices_plot = sns.boxplot(final_hist['price_per_sqft'], ax=ax)\n",
    "final_hist_prices_plot.set_title('Listing Prices from 1/2019 to 2/2020')\n",
    "final_hist_prices_plot.ticklabel_format(style='plain', axis='x')\n",
    "ax = fig.add_subplot(2, 1, 2)\n",
    "curr_prices_plot = sns.boxplot(curr_df['price_per_sqft'], ax=ax)\n",
    "curr_prices_plot.set_title('Current Listing Prices')\n",
    "curr_prices_plot.ticklabel_format(style='plain', axis='x')\n",
    "plt.show()"
   ]
  },
  {
   "cell_type": "markdown",
   "metadata": {},
   "source": [
    "### Histograms - Full Datasets"
   ]
  },
  {
   "cell_type": "code",
   "execution_count": 31,
   "metadata": {},
   "outputs": [
    {
     "data": {
      "image/png": "[encoded data removed]",
      "text/plain": [
       "<Figure size 1152x720 with 2 Axes>"
      ]
     },
     "metadata": {},
     "output_type": "display_data"
    }
   ],
   "source": [
    "fig = plt.figure()\n",
    "fig.set_figheight(10)\n",
    "fig.set_figwidth(16)\n",
    "ax = fig.add_subplot(2, 1, 1)\n",
    "hist_prices_histo = sns.distplot(final_hist['price_per_sqft'], kde=False, bins=75, hist_kws=dict(alpha=.85))\n",
    "hist_prices_histo.set_title('Listing Prices from - 1/2019 to 2/2020')\n",
    "hist_prices_histo.ticklabel_format(style='plain', axis='x')\n",
    "ax = fig.add_subplot(2, 1, 2)\n",
    "curr_prices_histo = sns.distplot(curr_df['price_per_sqft'], kde=False, bins=75, hist_kws=dict(alpha=.85))\n",
    "curr_prices_histo.set_title('Current Listing Prices')\n",
    "curr_prices_histo.ticklabel_format(style='plain', axis='x')\n",
    "plt.show()"
   ]
  },
  {
   "cell_type": "code",
   "execution_count": 32,
   "metadata": {},
   "outputs": [
    {
     "name": "stdout",
     "output_type": "stream",
     "text": [
      "Descriptive statistics for the full historical dataset.\n"
     ]
    },
    {
     "data": {
      "text/plain": [
       "DescribeResult(nobs=1768, minmax=(0.42, 137250.0), mean=373.03877262443444, variance=11639716.794635676, skewness=37.218554722042086, kurtosis=1470.2698829280994)"
      ]
     },
     "execution_count": 32,
     "metadata": {},
     "output_type": "execute_result"
    }
   ],
   "source": [
    "print('Descriptive statistics for the full historical dataset.')\n",
    "stats.describe(final_hist['price_per_sqft'])"
   ]
  },
  {
   "cell_type": "code",
   "execution_count": 33,
   "metadata": {},
   "outputs": [
    {
     "name": "stdout",
     "output_type": "stream",
     "text": [
      "Descriptive statistics for the full current dataset.\n"
     ]
    },
    {
     "data": {
      "text/plain": [
       "DescribeResult(nobs=8180, minmax=(0.3, 3846.15), mean=242.50706356968212, variance=27586.165683905972, skewness=4.711993193182691, kurtosis=57.215636925740554)"
      ]
     },
     "execution_count": 33,
     "metadata": {},
     "output_type": "execute_result"
    }
   ],
   "source": [
    "print('Descriptive statistics for the full current dataset.')\n",
    "stats.describe(curr_df['price_per_sqft'])"
   ]
  },
  {
   "cell_type": "markdown",
   "metadata": {},
   "source": [
    "#### The above (slightly less obvious) results read as follows:\n",
    "* nobs - Number of observations\n",
    "* minmax - Tuple of the lowest price, and highest price\n",
    "* skewness - A measure of how skewed the data is, perfectly normal distribution would equal zero\n",
    "* kurtosis - A measure of how high the peak is in reference to its tails. (High kurtosis has long tails with a high peak - values spread far from the mean)"
   ]
  },
  {
   "cell_type": "markdown",
   "metadata": {},
   "source": [
    "## Do we have equal variance for the full datasets?"
   ]
  },
  {
   "cell_type": "code",
   "execution_count": 34,
   "metadata": {},
   "outputs": [
    {
     "name": "stdout",
     "output_type": "stream",
     "text": [
      "Bartlett p-value = 0.0 \n",
      "\n",
      "Leven p-value = 1.2956155933397812e-05 \n",
      "\n",
      "Flinger p-value = 0.0\n"
     ]
    }
   ],
   "source": [
    "print('Bartlett p-value =', stats.bartlett(final_hist['price_per_sqft'], curr_df['price_per_sqft'])[1], '\\n')\n",
    "print('Leven p-value =', stats.levene(final_hist['price_per_sqft'], curr_df['price_per_sqft'])[1], '\\n')\n",
    "print('Flinger p-value =', stats.fligner(final_hist['price_per_sqft'], curr_df['price_per_sqft'], center='mean')[1])"
   ]
  },
  {
   "cell_type": "markdown",
   "metadata": {},
   "source": [
    "#### The small p-value in all three tests tells us that we do not have equal variance between the full datasets."
   ]
  },
  {
   "cell_type": "markdown",
   "metadata": {},
   "source": [
    "## Remove outliers in both datasets\n",
    "* We'll choose to get rid of listings greater than $900,000."
   ]
  },
  {
   "cell_type": "code",
   "execution_count": 35,
   "metadata": {},
   "outputs": [],
   "source": [
    "final_hist2 = final_hist[final_hist['price_per_sqft'] < 600]"
   ]
  },
  {
   "cell_type": "code",
   "execution_count": 36,
   "metadata": {},
   "outputs": [],
   "source": [
    "curr_df2 = curr_df[curr_df['price_per_sqft'] < 600]"
   ]
  },
  {
   "cell_type": "code",
   "execution_count": 37,
   "metadata": {},
   "outputs": [
    {
     "name": "stdout",
     "output_type": "stream",
     "text": [
      "These outliers only accounted for 0.05% of our historical data and\n",
      "0.02% of the current data.\n"
     ]
    }
   ],
   "source": [
    "print('These outliers only accounted for %.2f%% of our historical data and' % (1 - (len(final_hist2)/len(final_hist))))\n",
    "print('%.2f%% of the current data.' % (1 - (len(curr_df2)/len(curr_df))))"
   ]
  },
  {
   "cell_type": "markdown",
   "metadata": {},
   "source": [
    "## Visualizing the data with some outliers removed:"
   ]
  },
  {
   "cell_type": "markdown",
   "metadata": {},
   "source": [
    "### Boxplots - Outliers Removed"
   ]
  },
  {
   "cell_type": "code",
   "execution_count": 38,
   "metadata": {},
   "outputs": [
    {
     "data": {
      "image/png": "[encoded data removed]",
      "text/plain": [
       "<Figure size 1152x720 with 2 Axes>"
      ]
     },
     "metadata": {},
     "output_type": "display_data"
    }
   ],
   "source": [
    "fig = plt.figure()\n",
    "fig.set_figheight(10)\n",
    "fig.set_figwidth(16)\n",
    "ax = fig.add_subplot(2, 1, 1)\n",
    "final_hist_prices_plot2 = sns.boxplot(final_hist2['price_per_sqft'], ax=ax)\n",
    "final_hist_prices_plot2.set_title('Listing Prices from 1/2019 to 2/2020')\n",
    "final_hist_prices_plot2.ticklabel_format(style='plain', axis='x')\n",
    "ax = fig.add_subplot(2, 1, 2)\n",
    "curr_prices_plot2 = sns.boxplot(curr_df2['price_per_sqft'], ax=ax)\n",
    "curr_prices_plot2.set_title('Current Listing Prices')\n",
    "curr_prices_plot2.ticklabel_format(style='plain', axis='x')\n",
    "plt.show()"
   ]
  },
  {
   "cell_type": "markdown",
   "metadata": {},
   "source": [
    "### Histograms - Outliers Removed"
   ]
  },
  {
   "cell_type": "code",
   "execution_count": 39,
   "metadata": {},
   "outputs": [
    {
     "data": {
      "image/png": "[encoded data removed]",
      "text/plain": [
       "<Figure size 1152x720 with 2 Axes>"
      ]
     },
     "metadata": {},
     "output_type": "display_data"
    }
   ],
   "source": [
    "fig = plt.figure()\n",
    "fig.set_figheight(10)\n",
    "fig.set_figwidth(16)\n",
    "ax = fig.add_subplot(2, 1, 1)\n",
    "hist_prices_histo2 = sns.distplot(final_hist2['price_per_sqft'], kde=False, bins=75, hist_kws=dict(alpha=.85))\n",
    "hist_prices_histo2.set_title('Listing Prices from - 1/2019 to 2/2020')\n",
    "# hist_prices_histo2.set(xticks=np.arange(0, 900001, 50000))\n",
    "hist_prices_histo2.ticklabel_format(style='plain', axis='x')\n",
    "ax = fig.add_subplot(2, 1, 2)\n",
    "curr_prices_histo2 = sns.distplot(curr_df2['price_per_sqft'], kde=False, bins=75, hist_kws=dict(alpha=.85))\n",
    "curr_prices_histo2.set_title('Current Listing Prices')\n",
    "# curr_prices_histo2.set(xticks=np.arange(0, 900001, 50000))\n",
    "curr_prices_histo2.ticklabel_format(style='plain', axis='x')\n",
    "plt.show()"
   ]
  },
  {
   "cell_type": "code",
   "execution_count": 40,
   "metadata": {},
   "outputs": [
    {
     "name": "stdout",
     "output_type": "stream",
     "text": [
      "Descriptive statistics for the historical data with some outliers removed.\n"
     ]
    },
    {
     "data": {
      "text/plain": [
       "DescribeResult(nobs=1687, minmax=(0.42, 599.9), mean=208.2257617071725, variance=17884.56778469526, skewness=0.77903475992915, kurtosis=-0.09011398790331349)"
      ]
     },
     "execution_count": 40,
     "metadata": {},
     "output_type": "execute_result"
    }
   ],
   "source": [
    "print('Descriptive statistics for the historical data with some outliers removed.')\n",
    "stats.describe(final_hist2['price_per_sqft'])"
   ]
  },
  {
   "cell_type": "code",
   "execution_count": 41,
   "metadata": {},
   "outputs": [
    {
     "name": "stdout",
     "output_type": "stream",
     "text": [
      "Descriptive statistics for the current data with some outliers removed.\n"
     ]
    },
    {
     "data": {
      "text/plain": [
       "DescribeResult(nobs=7981, minmax=(0.3, 599.9), mean=225.86267510337046, variance=12741.758791652448, skewness=0.7401345966580136, kurtosis=0.26111411108367166)"
      ]
     },
     "execution_count": 41,
     "metadata": {},
     "output_type": "execute_result"
    }
   ],
   "source": [
    "print('Descriptive statistics for the current data with some outliers removed.')\n",
    "stats.describe(curr_df2['price_per_sqft'])"
   ]
  },
  {
   "cell_type": "markdown",
   "metadata": {},
   "source": [
    "### Removing some of the outliers has made a clear impact on the skewness and kurtosis measures compared to these measures on the full dataset."
   ]
  },
  {
   "cell_type": "markdown",
   "metadata": {},
   "source": [
    "### Do we have equal variance for the datasets with some outliers removed?"
   ]
  },
  {
   "cell_type": "code",
   "execution_count": 42,
   "metadata": {},
   "outputs": [
    {
     "name": "stdout",
     "output_type": "stream",
     "text": [
      "Bartlett p-value = 1.842811786084802e-20 \n",
      "\n",
      "Leven p-value = 6.367210802245546e-21 \n",
      "\n",
      "Flinger p-value = 2.726018071025746e-25\n"
     ]
    }
   ],
   "source": [
    "print('Bartlett p-value =', stats.bartlett(curr_df2['price_per_sqft'], final_hist2['price_per_sqft'])[1], '\\n')\n",
    "print('Leven p-value =', stats.levene(curr_df2['price_per_sqft'], final_hist2['price_per_sqft'])[1], '\\n')\n",
    "print('Flinger p-value =', stats.fligner(curr_df2['price_per_sqft'], final_hist2['price_per_sqft'], center='mean')[1])"
   ]
  },
  {
   "cell_type": "markdown",
   "metadata": {},
   "source": [
    "### All three of the tests for equal varaince have p-values below 0.05, which suggests that we still do not have equal variance for our datasets with some outliers removed."
   ]
  },
  {
   "cell_type": "markdown",
   "metadata": {},
   "source": [
    "## Is there a difference between the mean of the historical data and the mean of the current data - with outliers removed?\n",
    "* Null Hypothesis: The means are equal.\n",
    "* Alternative Hypothesis: The means are not equal."
   ]
  },
  {
   "cell_type": "code",
   "execution_count": 43,
   "metadata": {},
   "outputs": [
    {
     "name": "stdout",
     "output_type": "stream",
     "text": [
      "p-value = 4.781093438857996e-07\n",
      "95% Confidence Interval - (10.787906725908933, 24.48592006648706)\n"
     ]
    }
   ],
   "source": [
    "tstat, pval = stats.ttest_ind(curr_df2['price_per_sqft'], final_hist2['price_per_sqft'], equal_var=False)\n",
    "ci = sms.CompareMeans(sms.DescrStatsW(curr_df2['price_per_sqft']), sms.DescrStatsW(final_hist2['price_per_sqft']))\n",
    "print('p-value =', pval)\n",
    "print('95% Confidence Interval -', ci.tconfint_diff(usevar='unequal'))"
   ]
  },
  {
   "cell_type": "markdown",
   "metadata": {},
   "source": [
    "### *Interpetation:* With 95% confidence, the difference in mean listing price per sqaure foot between the historical data and the current data is between 10.79 and 24.49 with the current data having a higher mean listing price per square foot. The small p-value tells us that we can reject the null hypothesis that the means are equal, and conclude that this difference in means is statistically significant - the mean listing price before the pandemic is not equal to the mean listing price during the pandemic."
   ]
  },
  {
   "cell_type": "code",
   "execution_count": 44,
   "metadata": {},
   "outputs": [
    {
     "name": "stdout",
     "output_type": "stream",
     "text": [
      "The mean of the real estate listings increased by 17.64, during the pandemic.\n"
     ]
    }
   ],
   "source": [
    "diff = round(stats.describe(curr_df2['price_per_sqft'])[2] - stats.describe(final_hist2['price_per_sqft'])[2],2)\n",
    "print(\"The mean of the real estate listings increased by %.2f, during the pandemic.\" % diff)"
   ]
  },
  {
   "cell_type": "markdown",
   "metadata": {},
   "source": [
    "### Keep in mind that this increase, 17.64, takes into account the data we have for all of Philadelphia. We know from our COVID data above that some zip codes were hit much harder than others. Let's investigate a little further and see if positive case count might have an impact on mean listing price."
   ]
  },
  {
   "cell_type": "markdown",
   "metadata": {},
   "source": [
    "------------------------------"
   ]
  },
  {
   "cell_type": "markdown",
   "metadata": {},
   "source": [
    "# Statistical analysis on the zip codes with the top 10 highest number of positive cases, and bottom 10 lowest number of positive cases."
   ]
  },
  {
   "cell_type": "code",
   "execution_count": 45,
   "metadata": {},
   "outputs": [
    {
     "data": {
      "image/png": "[encoded data removed]",
      "text/plain": [
       "<Figure size 1296x936 with 4 Axes>"
      ]
     },
     "metadata": {},
     "output_type": "display_data"
    }
   ],
   "source": [
    "fig = plt.figure()\n",
    "fig.suptitle(\"Top 10 and Bottom 10 Zips in Positive Case Count\", y=.94)\n",
    "fig.set_figheight(13)\n",
    "fig.set_figwidth(18)\n",
    "ax = fig.add_subplot(2, 2, 1)\n",
    "top10_hist_prices_plot = sns.boxplot(top10_hist['price_per_sqft'], ax=ax)\n",
    "top10_hist_prices_plot.set_title('Top 10 Zips - Listings from 1/2019 to 2/2020')\n",
    "top10_hist_prices_plot.ticklabel_format(style='plain', axis='x')\n",
    "ax = fig.add_subplot(2, 2, 2)\n",
    "top10_curr_prices_plot = sns.boxplot(top10_curr['price_per_sqft'], ax=ax)\n",
    "top10_curr_prices_plot.set_title('Top 10 Zips - Currently Listed')\n",
    "ax = fig.add_subplot(2, 2, 3)\n",
    "bot10_hist_prices_plot = sns.boxplot(bot10_hist['price_per_sqft'], ax=ax)\n",
    "bot10_hist_prices_plot.set_title('Bottom 10 Zips - Listing from 1/2019 to 2/2020')\n",
    "ax = fig.add_subplot(2, 2, 4)\n",
    "bot10_curr_prices_plot = sns.boxplot(bot10_curr['price_per_sqft'], ax=ax)\n",
    "bot10_curr_prices_plot.set_title('Bottom 10 Zips - Currently Listed')\n",
    "plt.show()"
   ]
  },
  {
   "cell_type": "markdown",
   "metadata": {},
   "source": [
    "### Our top 10 and bottom 10 data were subset from the previous datasets before outlier removal; we see that these top 10 and bottom 10 subsets also have some outliers to deal with. Our top 10 data seems to have outliers starting around about 500 dollars per square foot, so we'll throw out all data greater than 500.\n",
    "\n",
    "### On the other hand, our bottom 10 data has several outliers in both datasets starting around 750 dollars per square foot and greater. With that said, we'll get rid of all listings with price per square foot greater than 751."
   ]
  },
  {
   "cell_type": "code",
   "execution_count": 46,
   "metadata": {},
   "outputs": [],
   "source": [
    "top10_hist2 = top10_hist[top10_hist['price_per_sqft'] < 501]\n",
    "top10_curr2 = top10_curr[top10_curr['price_per_sqft'] < 501]\n",
    "bot10_hist2 = bot10_hist[bot10_hist['price_per_sqft'] < 751]\n",
    "bot10_curr2 = bot10_curr[bot10_curr['price_per_sqft'] < 751]"
   ]
  },
  {
   "cell_type": "markdown",
   "metadata": {},
   "source": [
    "### Now let's see what these plots looks like."
   ]
  },
  {
   "cell_type": "code",
   "execution_count": 47,
   "metadata": {},
   "outputs": [
    {
     "data": {
      "image/png": "[encoded data removed]",
      "text/plain": [
       "<Figure size 1152x720 with 4 Axes>"
      ]
     },
     "metadata": {},
     "output_type": "display_data"
    }
   ],
   "source": [
    "fig = plt.figure()\n",
    "fig.suptitle(\"*Some Outliers Removed\", y=.93)\n",
    "fig.set_figheight(10)\n",
    "fig.set_figwidth(16)\n",
    "ax = fig.add_subplot(2, 2, 1)\n",
    "top10_hist2_prices_plot = sns.boxplot(top10_hist2['price_per_sqft'], ax=ax)\n",
    "top10_hist2_prices_plot.set_title('Top 10 Zips - Listings from 1/2019 to 2/2020')\n",
    "ax = fig.add_subplot(2, 2, 2)\n",
    "top10_curr2_prices_plot = sns.boxplot(top10_curr2['price_per_sqft'], ax=ax)\n",
    "top10_curr2_prices_plot.set_title('Top 10 Zips - Currently Listed')\n",
    "ax = fig.add_subplot(2, 2, 3)\n",
    "bot10_hist2_prices_plot = sns.boxplot(bot10_hist2['price_per_sqft'], ax=ax)\n",
    "bot10_hist2_prices_plot.set_title('Bottom 10 Zips - Listings from 1/2019 to 2/2020')\n",
    "ax = fig.add_subplot(2, 2, 4)\n",
    "bot10_curr2_prices_plot = sns.boxplot(bot10_curr2['price_per_sqft'], ax=ax)\n",
    "bot10_curr2_prices_plot.set_title('Bottom 10 Zips - Currently Listed')\n",
    "plt.show()"
   ]
  },
  {
   "cell_type": "code",
   "execution_count": 48,
   "metadata": {},
   "outputs": [
    {
     "data": {
      "image/png": "[encoded data removed]",
      "text/plain": [
       "<Figure size 1152x720 with 4 Axes>"
      ]
     },
     "metadata": {},
     "output_type": "display_data"
    }
   ],
   "source": [
    "fig = plt.figure()\n",
    "fig.suptitle(\"*Some Outliers Removed\", y=.93)\n",
    "fig.set_figheight(10)\n",
    "fig.set_figwidth(16)\n",
    "ax = fig.add_subplot(2, 2, 1)\n",
    "top10_prices_histo2 = sns.distplot(top10_hist2['price_per_sqft'], kde=False, bins=30, hist_kws=dict(alpha=.85))\n",
    "top10_prices_histo2.set_title('Top 10 Zips - Listing Prices from 1/2019 to 2/2020')\n",
    "top10_prices_histo2.ticklabel_format(style='plain', axis='x')\n",
    "ax = fig.add_subplot(2, 2, 2)\n",
    "top10_prices_histo2 = sns.distplot(top10_curr2['price_per_sqft'], kde=False, bins=30, hist_kws=dict(alpha=.85))\n",
    "top10_prices_histo2.set_title('Top 10 Zips - Current Listing Prices')\n",
    "top10_prices_histo2.ticklabel_format(style='plain', axis='x')\n",
    "ax = fig.add_subplot(2, 2, 3)\n",
    "bot10_prices_histo2 = sns.distplot(bot10_hist2['price_per_sqft'], kde=False, bins=30, hist_kws=dict(alpha=.85))\n",
    "bot10_prices_histo2.set_title('Bottom 10 Zips - Listing Prices from 1/2019 to 2/2020')\n",
    "bot10_prices_histo2.ticklabel_format(style='plain', axis='x')\n",
    "ax = fig.add_subplot(2, 2, 4)\n",
    "bot10_prices_histo2 = sns.distplot(bot10_curr2['price_per_sqft'], kde=False, bins=30, hist_kws=dict(alpha=.85))\n",
    "bot10_prices_histo2.set_title('Bottom 10 Zips - Current Listing Prices')\n",
    "bot10_prices_histo2.ticklabel_format(style='plain', axis='x')\n",
    "plt.show()"
   ]
  },
  {
   "cell_type": "code",
   "execution_count": 49,
   "metadata": {},
   "outputs": [
    {
     "name": "stdout",
     "output_type": "stream",
     "text": [
      "Descriptive statistics for the top 10 zips for historical data with some outliers removed.\n"
     ]
    },
    {
     "data": {
      "text/plain": [
       "DescribeResult(nobs=487, minmax=(0.62, 490.2), mean=144.1695893223819, variance=6624.193105592314, skewness=0.9435139220719729, kurtosis=1.0091702442753654)"
      ]
     },
     "execution_count": 49,
     "metadata": {},
     "output_type": "execute_result"
    }
   ],
   "source": [
    "print('Descriptive statistics for the top 10 zips for historical data with some outliers removed.')\n",
    "stats.describe(top10_hist2['price_per_sqft'])"
   ]
  },
  {
   "cell_type": "code",
   "execution_count": 50,
   "metadata": {},
   "outputs": [
    {
     "name": "stdout",
     "output_type": "stream",
     "text": [
      "Descriptive statistics for the top 10 zips for current data with some outliers removed.\n"
     ]
    },
    {
     "data": {
      "text/plain": [
       "DescribeResult(nobs=2283, minmax=(15.48, 452.13), mean=171.82613666228647, variance=5645.811026435303, skewness=0.49785212072649737, kurtosis=0.056808322126436384)"
      ]
     },
     "execution_count": 50,
     "metadata": {},
     "output_type": "execute_result"
    }
   ],
   "source": [
    "print('Descriptive statistics for the top 10 zips for current data with some outliers removed.')\n",
    "stats.describe(top10_curr2['price_per_sqft'])"
   ]
  },
  {
   "cell_type": "code",
   "execution_count": 51,
   "metadata": {},
   "outputs": [
    {
     "name": "stdout",
     "output_type": "stream",
     "text": [
      "Descriptive statistics for the bottom 10 zips for historical data with some outliers removed.\n"
     ]
    },
    {
     "data": {
      "text/plain": [
       "DescribeResult(nobs=126, minmax=(69.44, 744.65), mean=348.8437301587302, variance=22274.0981179746, skewness=0.18462640982403683, kurtosis=-0.2986719380781593)"
      ]
     },
     "execution_count": 51,
     "metadata": {},
     "output_type": "execute_result"
    }
   ],
   "source": [
    "print('Descriptive statistics for the bottom 10 zips for historical data with some outliers removed.')\n",
    "stats.describe(bot10_hist2['price_per_sqft'])"
   ]
  },
  {
   "cell_type": "code",
   "execution_count": 52,
   "metadata": {},
   "outputs": [
    {
     "name": "stdout",
     "output_type": "stream",
     "text": [
      "Descriptive statistics for the bottom 10 zips for current data with some outliers removed.\n"
     ]
    },
    {
     "data": {
      "text/plain": [
       "DescribeResult(nobs=625, minmax=(34.83, 749.13), mean=329.864912, variance=17345.096512211796, skewness=0.5370138867940436, kurtosis=0.1875656008225115)"
      ]
     },
     "execution_count": 52,
     "metadata": {},
     "output_type": "execute_result"
    }
   ],
   "source": [
    "print('Descriptive statistics for the bottom 10 zips for current data with some outliers removed.')\n",
    "stats.describe(bot10_curr2['price_per_sqft'])"
   ]
  },
  {
   "cell_type": "markdown",
   "metadata": {},
   "source": [
    "## Do we have equal variance between the historical and current data for Top 10 zips in positive cases?"
   ]
  },
  {
   "cell_type": "code",
   "execution_count": 53,
   "metadata": {},
   "outputs": [
    {
     "name": "stdout",
     "output_type": "stream",
     "text": [
      "Bartlett p-value = 0.021435365500745464 \n",
      "\n",
      "Leven p-value = 0.16523727184737172 \n",
      "\n",
      "Flinger p-value = 0.1364755621021774\n"
     ]
    }
   ],
   "source": [
    "print('Bartlett p-value =', stats.bartlett(top10_hist2['price_per_sqft'], top10_curr2['price_per_sqft'])[1], '\\n')\n",
    "print('Leven p-value =', stats.levene(top10_hist2['price_per_sqft'], top10_curr2['price_per_sqft'])[1], '\\n')\n",
    "print('Flinger p-value =', stats.fligner(top10_hist2['price_per_sqft'], top10_curr2['price_per_sqft'], center='mean')[1])"
   ]
  },
  {
   "cell_type": "markdown",
   "metadata": {},
   "source": [
    "### Two of the tests for equal variance return p-values greater than 0.05, we'll conclude that we do have equal variance for the zips with the top 10 highest number of positive cases."
   ]
  },
  {
   "cell_type": "markdown",
   "metadata": {},
   "source": [
    "## Do we have equal variance between the historical and current data for Bottom 10 zips in positive cases?"
   ]
  },
  {
   "cell_type": "code",
   "execution_count": 54,
   "metadata": {},
   "outputs": [
    {
     "name": "stdout",
     "output_type": "stream",
     "text": [
      "Bartlett p-value = 0.06397561531203726 \n",
      "\n",
      "Leven p-value = 0.1359273644869634 \n",
      "\n",
      "Flinger p-value = 0.12753700183758251\n"
     ]
    }
   ],
   "source": [
    "print('Bartlett p-value =', stats.bartlett(bot10_hist2['price_per_sqft'], bot10_curr2['price_per_sqft'])[1], '\\n')\n",
    "print('Leven p-value =', stats.levene(bot10_hist2['price_per_sqft'], bot10_curr2['price_per_sqft'])[1], '\\n')\n",
    "print('Flinger p-value =', stats.fligner(bot10_hist2['price_per_sqft'], bot10_curr2['price_per_sqft'], center='mean')[1])"
   ]
  },
  {
   "cell_type": "markdown",
   "metadata": {},
   "source": [
    "### All tests return p-values greater than 0.05, so we'll conclude for our bottom 10 zips that we do have equal variance."
   ]
  },
  {
   "cell_type": "markdown",
   "metadata": {},
   "source": [
    "## Is there a difference between the mean of the historical data for zips with the top 10 highest case counts and the mean of the current data for the zips with the top 10 highest case counts - with outliers removed?\n",
    "* Null Hypothesis: The means are equal.\n",
    "* Alternative Hypothesis: The means are not equal."
   ]
  },
  {
   "cell_type": "code",
   "execution_count": 55,
   "metadata": {},
   "outputs": [
    {
     "name": "stdout",
     "output_type": "stream",
     "text": [
      "p-value = 4.846160370133699e-13\n",
      "95% Confidence Interval - (20.1915068645479, 35.121587815261165)\n"
     ]
    }
   ],
   "source": [
    "tstat, pval = stats.ttest_ind(top10_curr2['price_per_sqft'], top10_hist2['price_per_sqft'], equal_var=True)\n",
    "ci = sms.CompareMeans(sms.DescrStatsW(top10_curr2['price_per_sqft']), sms.DescrStatsW(top10_hist2['price_per_sqft']))\n",
    "print('p-value =', pval)\n",
    "print('95% Confidence Interval -', ci.tconfint_diff(usevar='pooled'))"
   ]
  },
  {
   "cell_type": "code",
   "execution_count": 56,
   "metadata": {},
   "outputs": [
    {
     "name": "stdout",
     "output_type": "stream",
     "text": [
      "The mean of the real estate listings increased by $27, during the pandemic.\n"
     ]
    }
   ],
   "source": [
    "diff = round(stats.describe(top10_curr2['price_per_sqft'])[2] - stats.describe(top10_hist2['price_per_sqft'])[2],2)\n",
    "print(\"The mean of the real estate listings increased by $%d, during the pandemic.\" % diff)"
   ]
  },
  {
   "cell_type": "markdown",
   "metadata": {},
   "source": [
    "### *Interpetation:* With 95% confidence, the difference in mean listing price between the historical data and the current data of the zips with the top 10 highest counts of positiive cases is between 18.32 and 33.25 with the current data having a higher mean listing price per square foot. The small p-value tells us that we can reject the null hypothesis that the means are equal, and conclude that this difference in means is statistically significant - the mean listing price per square foot before the pandemic is not equal to the mean listing price per square foot during the pandemic for the zips with the top 10 highest counts of positiive cases. In fact, the mean increased in these zip codes!"
   ]
  },
  {
   "cell_type": "markdown",
   "metadata": {},
   "source": [
    "## Is there a difference between the mean of the historical data for zips with the bottom 10 lowest case counts and the mean of the current data for the zips with the bottom 10 lowest case counts - with outliers removed?\n",
    "* Null Hypothesis: The means are equal.\n",
    "* Alternative Hypothesis: The means are not equal."
   ]
  },
  {
   "cell_type": "code",
   "execution_count": 57,
   "metadata": {},
   "outputs": [
    {
     "name": "stdout",
     "output_type": "stream",
     "text": [
      "p-value = 0.14975845961906992\n",
      "95% Confidence Interval - (-44.818968318099394, 6.861332000639155)\n"
     ]
    }
   ],
   "source": [
    "tstat, pval = stats.ttest_ind(bot10_curr2['price_per_sqft'], bot10_hist2['price_per_sqft'], equal_var=True)\n",
    "ci = sms.CompareMeans(sms.DescrStatsW(bot10_curr2['price_per_sqft']), sms.DescrStatsW(bot10_hist2['price_per_sqft']))\n",
    "print('p-value =', pval)\n",
    "print('95% Confidence Interval -', ci.tconfint_diff(usevar='pooled'))"
   ]
  },
  {
   "cell_type": "code",
   "execution_count": 58,
   "metadata": {},
   "outputs": [
    {
     "name": "stdout",
     "output_type": "stream",
     "text": [
      "The mean of the real estate listings decreased by -18.98, during the pandemic.\n"
     ]
    }
   ],
   "source": [
    "diff = round(stats.describe(bot10_curr2['price_per_sqft'])[2] - stats.describe(bot10_hist2['price_per_sqft'])[2],2)\n",
    "print(\"The mean of the real estate listings decreased by %.2f, during the pandemic.\" % diff)"
   ]
  },
  {
   "cell_type": "markdown",
   "metadata": {},
   "source": [
    "### *Interpetation:* With 95% confidence, the difference in mean listing price per square foot between the historical data and the current data of the zips with the bottom 10 lowest counts of positiive cases is between -44.82 and 6.86 with the historical data having a higher mean listing price price per square foot. With the p-value above 0.05 we accept the null hypothesis that the means are equal, and conclude that this difference in means is not statistically significant - the mean listing price per sqaure foot before the pandemic is equal to the mean listing price per square foot during the pandemic for the zips with the bottom 10 lowest counts of positiive cases. The mean of these zip codes actually decreased by 18.98 dollars per square foot. However, this test tells us that this decrease is not a statistically significant change."
   ]
  }
 ],
 "metadata": {
  "kernelspec": {
   "display_name": "Python 3",
   "language": "python",
   "name": "python3"
  },
  "language_info": {
   "codemirror_mode": {
    "name": "ipython",
    "version": 3
   },
   "file_extension": ".py",
   "mimetype": "text/x-python",
   "name": "python",
   "nbconvert_exporter": "python",
   "pygments_lexer": "ipython3",
   "version": "3.7.6"
  }
 },
 "nbformat": 4,
 "nbformat_minor": 4
}
