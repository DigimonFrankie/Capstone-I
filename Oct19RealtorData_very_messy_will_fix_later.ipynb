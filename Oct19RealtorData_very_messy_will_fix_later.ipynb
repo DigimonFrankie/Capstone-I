{
 "cells": [
  {
   "cell_type": "code",
   "execution_count": 13,
   "metadata": {},
   "outputs": [],
   "source": [
    "import pandas as pd\n",
    "import numpy as np\n",
    "import matplotlib.pyplot as plt\n",
    "import seaborn as sns"
   ]
  },
  {
   "cell_type": "code",
   "execution_count": 14,
   "metadata": {},
   "outputs": [],
   "source": [
    "data = pd.read_csv('./processed_data.csv')"
   ]
  },
  {
   "cell_type": "code",
   "execution_count": 16,
   "metadata": {},
   "outputs": [
    {
     "data": {
      "text/html": [
       "<div>\n",
       "<style scoped>\n",
       "    .dataframe tbody tr th:only-of-type {\n",
       "        vertical-align: middle;\n",
       "    }\n",
       "\n",
       "    .dataframe tbody tr th {\n",
       "        vertical-align: top;\n",
       "    }\n",
       "\n",
       "    .dataframe thead th {\n",
       "        text-align: right;\n",
       "    }\n",
       "</style>\n",
       "<table border=\"1\" class=\"dataframe\">\n",
       "  <thead>\n",
       "    <tr style=\"text-align: right;\">\n",
       "      <th></th>\n",
       "      <th>property_id</th>\n",
       "      <th>prop_type</th>\n",
       "      <th>prop_sub_type</th>\n",
       "      <th>address</th>\n",
       "      <th>branding</th>\n",
       "      <th>prop_status</th>\n",
       "      <th>price</th>\n",
       "      <th>baths_full</th>\n",
       "      <th>baths</th>\n",
       "      <th>beds</th>\n",
       "      <th>building_size</th>\n",
       "      <th>agents</th>\n",
       "      <th>last_update</th>\n",
       "      <th>photo_count</th>\n",
       "      <th>page_no</th>\n",
       "      <th>rank</th>\n",
       "      <th>lot_size</th>\n",
       "      <th>baths_half</th>\n",
       "    </tr>\n",
       "  </thead>\n",
       "  <tbody>\n",
       "    <tr>\n",
       "      <th>0</th>\n",
       "      <td>M4046594895</td>\n",
       "      <td>condo</td>\n",
       "      <td>duplex_triplex</td>\n",
       "      <td>{'city': 'Philadelphia', 'line': '1516 N 62nd ...</td>\n",
       "      <td>{'listing_office': {'list_item': {'name': 'Arc...</td>\n",
       "      <td>for_sale</td>\n",
       "      <td>249900</td>\n",
       "      <td>3.0</td>\n",
       "      <td>3</td>\n",
       "      <td>6.0</td>\n",
       "      <td>{'size': 1632, 'units': 'sqft'}</td>\n",
       "      <td>[{'primary': True, 'advertiser_id': '1291281',...</td>\n",
       "      <td>2020-10-13T17:54:05Z</td>\n",
       "      <td>9</td>\n",
       "      <td>1</td>\n",
       "      <td>1</td>\n",
       "      <td>{'size': 1842, 'units': 'sqft'}</td>\n",
       "      <td>NaN</td>\n",
       "    </tr>\n",
       "    <tr>\n",
       "      <th>1</th>\n",
       "      <td>M3939384476</td>\n",
       "      <td>condo</td>\n",
       "      <td>townhomes</td>\n",
       "      <td>{'city': 'Philadelphia', 'line': '6102 Reedlan...</td>\n",
       "      <td>{'listing_office': {'list_item': {'name': 'Vih...</td>\n",
       "      <td>for_sale</td>\n",
       "      <td>116800</td>\n",
       "      <td>1.0</td>\n",
       "      <td>1</td>\n",
       "      <td>3.0</td>\n",
       "      <td>{'size': 1092, 'units': 'sqft'}</td>\n",
       "      <td>[{'primary': True, 'advertiser_id': '347285', ...</td>\n",
       "      <td>2020-10-13T18:18:18Z</td>\n",
       "      <td>7</td>\n",
       "      <td>1</td>\n",
       "      <td>2</td>\n",
       "      <td>{'size': 992, 'units': 'sqft'}</td>\n",
       "      <td>NaN</td>\n",
       "    </tr>\n",
       "    <tr>\n",
       "      <th>2</th>\n",
       "      <td>M4036371277</td>\n",
       "      <td>condo</td>\n",
       "      <td>townhomes</td>\n",
       "      <td>{'city': 'Philadelphia', 'line': '5703 N 13th ...</td>\n",
       "      <td>{'listing_office': {'list_item': {'name': 'Pre...</td>\n",
       "      <td>for_sale</td>\n",
       "      <td>215000</td>\n",
       "      <td>1.0</td>\n",
       "      <td>2</td>\n",
       "      <td>3.0</td>\n",
       "      <td>{'size': 1360, 'units': 'sqft'}</td>\n",
       "      <td>[{'primary': True, 'photo': None, 'name': 'Kev...</td>\n",
       "      <td>2020-10-13T17:24:20Z</td>\n",
       "      <td>35</td>\n",
       "      <td>1</td>\n",
       "      <td>3</td>\n",
       "      <td>{'size': 1501, 'units': 'sqft'}</td>\n",
       "      <td>1.0</td>\n",
       "    </tr>\n",
       "    <tr>\n",
       "      <th>3</th>\n",
       "      <td>M3553029343</td>\n",
       "      <td>single_family</td>\n",
       "      <td>NaN</td>\n",
       "      <td>{'city': 'Philadelphia', 'line': '1009 Rhawn S...</td>\n",
       "      <td>{'listing_office': {'list_item': {'name': 'Re/...</td>\n",
       "      <td>for_sale</td>\n",
       "      <td>394800</td>\n",
       "      <td>1.0</td>\n",
       "      <td>2</td>\n",
       "      <td>3.0</td>\n",
       "      <td>{'size': 1856, 'units': 'sqft'}</td>\n",
       "      <td>[{'primary': True, 'advertiser_id': '4759', 'i...</td>\n",
       "      <td>2020-10-13T17:11:54Z</td>\n",
       "      <td>123</td>\n",
       "      <td>1</td>\n",
       "      <td>4</td>\n",
       "      <td>{'size': 15913, 'units': 'sqft'}</td>\n",
       "      <td>1.0</td>\n",
       "    </tr>\n",
       "    <tr>\n",
       "      <th>4</th>\n",
       "      <td>M3649199107</td>\n",
       "      <td>condo</td>\n",
       "      <td>townhomes</td>\n",
       "      <td>{'city': 'Philadelphia', 'line': '3850 N Bouvi...</td>\n",
       "      <td>{'listing_office': {'list_item': {'name': 'Re/...</td>\n",
       "      <td>for_sale</td>\n",
       "      <td>130000</td>\n",
       "      <td>1.0</td>\n",
       "      <td>2</td>\n",
       "      <td>3.0</td>\n",
       "      <td>{'size': 1180, 'units': 'sqft'}</td>\n",
       "      <td>[{'primary': True, 'advertiser_id': '391546', ...</td>\n",
       "      <td>2020-10-13T17:02:13Z</td>\n",
       "      <td>33</td>\n",
       "      <td>1</td>\n",
       "      <td>5</td>\n",
       "      <td>{'size': 1240, 'units': 'sqft'}</td>\n",
       "      <td>1.0</td>\n",
       "    </tr>\n",
       "  </tbody>\n",
       "</table>\n",
       "</div>"
      ],
      "text/plain": [
       "   property_id      prop_type   prop_sub_type  \\\n",
       "0  M4046594895          condo  duplex_triplex   \n",
       "1  M3939384476          condo       townhomes   \n",
       "2  M4036371277          condo       townhomes   \n",
       "3  M3553029343  single_family             NaN   \n",
       "4  M3649199107          condo       townhomes   \n",
       "\n",
       "                                             address  \\\n",
       "0  {'city': 'Philadelphia', 'line': '1516 N 62nd ...   \n",
       "1  {'city': 'Philadelphia', 'line': '6102 Reedlan...   \n",
       "2  {'city': 'Philadelphia', 'line': '5703 N 13th ...   \n",
       "3  {'city': 'Philadelphia', 'line': '1009 Rhawn S...   \n",
       "4  {'city': 'Philadelphia', 'line': '3850 N Bouvi...   \n",
       "\n",
       "                                            branding prop_status   price  \\\n",
       "0  {'listing_office': {'list_item': {'name': 'Arc...    for_sale  249900   \n",
       "1  {'listing_office': {'list_item': {'name': 'Vih...    for_sale  116800   \n",
       "2  {'listing_office': {'list_item': {'name': 'Pre...    for_sale  215000   \n",
       "3  {'listing_office': {'list_item': {'name': 'Re/...    for_sale  394800   \n",
       "4  {'listing_office': {'list_item': {'name': 'Re/...    for_sale  130000   \n",
       "\n",
       "   baths_full  baths  beds                    building_size  \\\n",
       "0         3.0      3   6.0  {'size': 1632, 'units': 'sqft'}   \n",
       "1         1.0      1   3.0  {'size': 1092, 'units': 'sqft'}   \n",
       "2         1.0      2   3.0  {'size': 1360, 'units': 'sqft'}   \n",
       "3         1.0      2   3.0  {'size': 1856, 'units': 'sqft'}   \n",
       "4         1.0      2   3.0  {'size': 1180, 'units': 'sqft'}   \n",
       "\n",
       "                                              agents           last_update  \\\n",
       "0  [{'primary': True, 'advertiser_id': '1291281',...  2020-10-13T17:54:05Z   \n",
       "1  [{'primary': True, 'advertiser_id': '347285', ...  2020-10-13T18:18:18Z   \n",
       "2  [{'primary': True, 'photo': None, 'name': 'Kev...  2020-10-13T17:24:20Z   \n",
       "3  [{'primary': True, 'advertiser_id': '4759', 'i...  2020-10-13T17:11:54Z   \n",
       "4  [{'primary': True, 'advertiser_id': '391546', ...  2020-10-13T17:02:13Z   \n",
       "\n",
       "   photo_count  page_no  rank                          lot_size  baths_half  \n",
       "0            9        1     1   {'size': 1842, 'units': 'sqft'}         NaN  \n",
       "1            7        1     2    {'size': 992, 'units': 'sqft'}         NaN  \n",
       "2           35        1     3   {'size': 1501, 'units': 'sqft'}         1.0  \n",
       "3          123        1     4  {'size': 15913, 'units': 'sqft'}         1.0  \n",
       "4           33        1     5   {'size': 1240, 'units': 'sqft'}         1.0  "
      ]
     },
     "execution_count": 16,
     "metadata": {},
     "output_type": "execute_result"
    }
   ],
   "source": [
    "data.head()"
   ]
  },
  {
   "cell_type": "code",
   "execution_count": 43,
   "metadata": {},
   "outputs": [],
   "source": [
    "price_median_by_prop_type = data.groupby('prop_type')['price'].median().rename_axis('prop_type').reset_index(name='median_price')"
   ]
  },
  {
   "cell_type": "code",
   "execution_count": 51,
   "metadata": {},
   "outputs": [
    {
     "data": {
      "text/html": [
       "<div>\n",
       "<style scoped>\n",
       "    .dataframe tbody tr th:only-of-type {\n",
       "        vertical-align: middle;\n",
       "    }\n",
       "\n",
       "    .dataframe tbody tr th {\n",
       "        vertical-align: top;\n",
       "    }\n",
       "\n",
       "    .dataframe thead th {\n",
       "        text-align: right;\n",
       "    }\n",
       "</style>\n",
       "<table border=\"1\" class=\"dataframe\">\n",
       "  <thead>\n",
       "    <tr style=\"text-align: right;\">\n",
       "      <th></th>\n",
       "      <th>prop_type</th>\n",
       "      <th>median_price</th>\n",
       "    </tr>\n",
       "  </thead>\n",
       "  <tbody>\n",
       "    <tr>\n",
       "      <th>0</th>\n",
       "      <td>condo</td>\n",
       "      <td>275000.0</td>\n",
       "    </tr>\n",
       "    <tr>\n",
       "      <th>1</th>\n",
       "      <td>land</td>\n",
       "      <td>59999.5</td>\n",
       "    </tr>\n",
       "    <tr>\n",
       "      <th>2</th>\n",
       "      <td>multi_family</td>\n",
       "      <td>339900.0</td>\n",
       "    </tr>\n",
       "    <tr>\n",
       "      <th>3</th>\n",
       "      <td>single_family</td>\n",
       "      <td>379950.0</td>\n",
       "    </tr>\n",
       "  </tbody>\n",
       "</table>\n",
       "</div>"
      ],
      "text/plain": [
       "       prop_type  median_price\n",
       "0          condo      275000.0\n",
       "1           land       59999.5\n",
       "2   multi_family      339900.0\n",
       "3  single_family      379950.0"
      ]
     },
     "execution_count": 51,
     "metadata": {},
     "output_type": "execute_result"
    }
   ],
   "source": [
    "price_median_by_prop_type"
   ]
  },
  {
   "cell_type": "code",
   "execution_count": 35,
   "metadata": {},
   "outputs": [],
   "source": [
    "prop_type_count = data['prop_type'].value_counts().rename_axis('prop_type').reset_index(name='count')"
   ]
  },
  {
   "cell_type": "code",
   "execution_count": 36,
   "metadata": {},
   "outputs": [
    {
     "data": {
      "text/html": [
       "<div>\n",
       "<style scoped>\n",
       "    .dataframe tbody tr th:only-of-type {\n",
       "        vertical-align: middle;\n",
       "    }\n",
       "\n",
       "    .dataframe tbody tr th {\n",
       "        vertical-align: top;\n",
       "    }\n",
       "\n",
       "    .dataframe thead th {\n",
       "        text-align: right;\n",
       "    }\n",
       "</style>\n",
       "<table border=\"1\" class=\"dataframe\">\n",
       "  <thead>\n",
       "    <tr style=\"text-align: right;\">\n",
       "      <th></th>\n",
       "      <th>prop_type</th>\n",
       "      <th>count</th>\n",
       "    </tr>\n",
       "  </thead>\n",
       "  <tbody>\n",
       "    <tr>\n",
       "      <th>0</th>\n",
       "      <td>condo</td>\n",
       "      <td>7078</td>\n",
       "    </tr>\n",
       "    <tr>\n",
       "      <th>1</th>\n",
       "      <td>land</td>\n",
       "      <td>1182</td>\n",
       "    </tr>\n",
       "    <tr>\n",
       "      <th>2</th>\n",
       "      <td>multi_family</td>\n",
       "      <td>720</td>\n",
       "    </tr>\n",
       "    <tr>\n",
       "      <th>3</th>\n",
       "      <td>single_family</td>\n",
       "      <td>582</td>\n",
       "    </tr>\n",
       "  </tbody>\n",
       "</table>\n",
       "</div>"
      ],
      "text/plain": [
       "       prop_type  count\n",
       "0          condo   7078\n",
       "1           land   1182\n",
       "2   multi_family    720\n",
       "3  single_family    582"
      ]
     },
     "execution_count": 36,
     "metadata": {},
     "output_type": "execute_result"
    }
   ],
   "source": [
    "prop_type_count"
   ]
  },
  {
   "cell_type": "code",
   "execution_count": 37,
   "metadata": {},
   "outputs": [
    {
     "data": {
      "image/png": "[encoded data removed]",
      "text/plain": [
       "<Figure size 432x288 with 1 Axes>"
      ]
     },
     "metadata": {
      "needs_background": "light"
     },
     "output_type": "display_data"
    }
   ],
   "source": [
    "prop_type_plot = sns.barplot(x='prop_type', y='count', data=prop_type_count)"
   ]
  },
  {
   "cell_type": "code",
   "execution_count": 50,
   "metadata": {},
   "outputs": [
    {
     "data": {
      "image/png": "[encoded data removed]",
      "text/plain": [
       "<Figure size 432x288 with 1 Axes>"
      ]
     },
     "metadata": {
      "needs_background": "light"
     },
     "output_type": "display_data"
    }
   ],
   "source": [
    "prop_type_plot = sns.barplot(x='prop_type', y='median_price', data=price_median_by_prop_type)\n",
    "plt.title('Median Listing Price by Property Type')\n",
    "plt.show()"
   ]
  },
  {
   "cell_type": "code",
   "execution_count": 55,
   "metadata": {},
   "outputs": [
    {
     "data": {
      "text/html": [
       "<div>\n",
       "<style scoped>\n",
       "    .dataframe tbody tr th:only-of-type {\n",
       "        vertical-align: middle;\n",
       "    }\n",
       "\n",
       "    .dataframe tbody tr th {\n",
       "        vertical-align: top;\n",
       "    }\n",
       "\n",
       "    .dataframe thead th {\n",
       "        text-align: right;\n",
       "    }\n",
       "</style>\n",
       "<table border=\"1\" class=\"dataframe\">\n",
       "  <thead>\n",
       "    <tr style=\"text-align: right;\">\n",
       "      <th></th>\n",
       "      <th>property_id</th>\n",
       "      <th>price</th>\n",
       "    </tr>\n",
       "  </thead>\n",
       "  <tbody>\n",
       "    <tr>\n",
       "      <th>0</th>\n",
       "      <td>M4046594895</td>\n",
       "      <td>249900</td>\n",
       "    </tr>\n",
       "    <tr>\n",
       "      <th>1</th>\n",
       "      <td>M3939384476</td>\n",
       "      <td>116800</td>\n",
       "    </tr>\n",
       "    <tr>\n",
       "      <th>2</th>\n",
       "      <td>M4036371277</td>\n",
       "      <td>215000</td>\n",
       "    </tr>\n",
       "    <tr>\n",
       "      <th>3</th>\n",
       "      <td>M3553029343</td>\n",
       "      <td>394800</td>\n",
       "    </tr>\n",
       "    <tr>\n",
       "      <th>4</th>\n",
       "      <td>M3649199107</td>\n",
       "      <td>130000</td>\n",
       "    </tr>\n",
       "  </tbody>\n",
       "</table>\n",
       "</div>"
      ],
      "text/plain": [
       "   property_id   price\n",
       "0  M4046594895  249900\n",
       "1  M3939384476  116800\n",
       "2  M4036371277  215000\n",
       "3  M3553029343  394800\n",
       "4  M3649199107  130000"
      ]
     },
     "execution_count": 55,
     "metadata": {},
     "output_type": "execute_result"
    }
   ],
   "source": [
    "data[['property_id','price']].head()"
   ]
  },
  {
   "cell_type": "code",
   "execution_count": 61,
   "metadata": {},
   "outputs": [],
   "source": [
    "under_1mil = data[data['price'] < 1000000]"
   ]
  },
  {
   "cell_type": "code",
   "execution_count": 67,
   "metadata": {},
   "outputs": [
    {
     "data": {
      "image/png": "[encoded data removed]",
      "text/plain": [
       "<Figure size 432x288 with 1 Axes>"
      ]
     },
     "metadata": {
      "needs_background": "light"
     },
     "output_type": "display_data"
    }
   ],
   "source": [
    "plt.title(\"Histogram for Listing Prices Under $1,000,000\")\n",
    "sns.distplot(under_1mil['price'], kde=False)\n",
    "plt.show()"
   ]
  },
  {
   "cell_type": "code",
   "execution_count": null,
   "metadata": {},
   "outputs": [],
   "source": []
  }
 ],
 "metadata": {
  "kernelspec": {
   "display_name": "Python 3",
   "language": "python",
   "name": "python3"
  },
  "language_info": {
   "codemirror_mode": {
    "name": "ipython",
    "version": 3
   },
   "file_extension": ".py",
   "mimetype": "text/x-python",
   "name": "python",
   "nbconvert_exporter": "python",
   "pygments_lexer": "ipython3",
   "version": "3.7.6"
  }
 },
 "nbformat": 4,
 "nbformat_minor": 4
}
