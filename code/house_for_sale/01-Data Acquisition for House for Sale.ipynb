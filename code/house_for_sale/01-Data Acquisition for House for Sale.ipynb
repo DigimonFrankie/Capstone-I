{
 "cells": [
  {
   "cell_type": "markdown",
   "metadata": {},
   "source": [
    "## Data aquiring date: 10/16/2020\n",
    "\n",
    "author of code: \n",
    "- Frank Zhao\n",
    "- Gustavo Ferreira\n",
    "- Jason Li"
   ]
  },
  {
   "cell_type": "markdown",
   "metadata": {},
   "source": [
    "# Import modules"
   ]
  },
  {
   "cell_type": "code",
   "execution_count": 1,
   "metadata": {},
   "outputs": [],
   "source": [
    "import json\n",
    "from pprint import pprint\n",
    "import glob\n",
    "from datetime import datetime\n",
    "import requests\n",
    "import pandas as pd"
   ]
  },
  {
   "cell_type": "markdown",
   "metadata": {},
   "source": [
    "# Helper Functions"
   ]
  },
  {
   "cell_type": "code",
   "execution_count": 2,
   "metadata": {},
   "outputs": [],
   "source": [
    "## function for realtor api requests\n",
    "### credit https://rapidapi.com/apidojo/api/realtor?endpoint=apiendpoint_e259775d-d98e-479f-8440-206d6d4fa892\n",
    "\n",
    "def realtor_api_request(sort = \"relevance\", city = \"Philadelphia\", limit = \"200\", offset = \"0\", state_code = \"PA\"):\n",
    "    url = \"https://realtor.p.rapidapi.com/properties/v2/list-for-sale\"\n",
    "\n",
    "    querystring = {\n",
    "        \"sort\": sort,\n",
    "        \"city\": city,\n",
    "        \"limit\": limit,\n",
    "        \"offset\": offset,\n",
    "        \"state_code\": state_code\n",
    "    }\n",
    "\n",
    "    headers = {\n",
    "        'x-rapidapi-host': \"realtor.p.rapidapi.com\",\n",
    "        'x-rapidapi-key': \"e2aef74c96msh10b708b155c5b67p1e6d19jsn4cb3a156a37d\"\n",
    "        }\n",
    "\n",
    "    response = requests.request(\"GET\", url, headers=headers, params=querystring)\n",
    "    \n",
    "    return response.json()"
   ]
  },
  {
   "cell_type": "code",
   "execution_count": 3,
   "metadata": {},
   "outputs": [],
   "source": [
    "## convert response to dataFrame\n",
    "\n",
    "def process_response(response_json):\n",
    "    '''\n",
    "    This function is to convert each request result to a dataframe.\n",
    "    \n",
    "    1. create an empty list\n",
    "    2. loop for each response and get details from key 'properties' \n",
    "    3. convert details to df\n",
    "    4. append single df to list\n",
    "    5. concat the list to one df\n",
    "    \n",
    "    '''\n",
    "    \n",
    "    convert_list=[]\n",
    "\n",
    "    for col in response_json['properties']:\n",
    "        \n",
    "        single_df = pd.DataFrame.from_dict(col, orient='index').T\n",
    "        \n",
    "        convert_list.append(single_df)\n",
    "        \n",
    "    return pd.concat(convert_list, axis = 0, ignore_index=True, sort=False)"
   ]
  },
  {
   "cell_type": "markdown",
   "metadata": {},
   "source": [
    "# Get data"
   ]
  },
  {
   "cell_type": "code",
   "execution_count": 4,
   "metadata": {},
   "outputs": [],
   "source": [
    "## run for each offset\n",
    "'''\n",
    "There are 200 instances in each request. Restricted by Rapidapi\n",
    "'''\n",
    "def response_to_df(sort = \"relevance\", city = \"Philadelphia\", limit = \"200\", offset = \"0\", state_code = \"PA\"):\n",
    "    \n",
    "    property_for_sale = realtor_api_request(sort = sort, \n",
    "                                            city = city, \n",
    "                                            limit = limit, \n",
    "                                            offset = offset, \n",
    "                                            state_code = state_code)\n",
    "    df_properties_for_sale_raw = process_response(response_json = property_for_sale)\n",
    "    \n",
    "    pd.set_option('display.max_columns', None)\n",
    "    \n",
    "    return df_properties_for_sale_raw\n"
   ]
  },
  {
   "cell_type": "markdown",
   "metadata": {},
   "source": [
    "# Export response to csv file"
   ]
  },
  {
   "cell_type": "code",
   "execution_count": 5,
   "metadata": {},
   "outputs": [
    {
     "name": "stdout",
     "output_type": "stream",
     "text": [
      "The 10th Time\n",
      "The 20th Time\n",
      "The 30th Time\n",
      "The 40th Time\n",
      "Total time is: 0:02:54.604970\n"
     ]
    }
   ],
   "source": [
    "## export each response to csv file\n",
    "'''\n",
    "Since each request could get 200 instances, after the each request, we increase the offset 200.\n",
    "So on the second run, we can get data from 201 - 400, theoratically.\n",
    "However, the system will keep updating the data so we may either get the data overlapped or miss some data.\n",
    "We will deal with duplicated data later.\n",
    "\n",
    "Currently, the loop will crash when the instances in the last run is less than 200. \n",
    "'''\n",
    "\n",
    "start = datetime.now() ## to see how long will it finish the run\n",
    "i=1\n",
    "for offset in range(0, 9562, 200):\n",
    "    response_to_df(offset = offset).to_csv(f'test{i}.csv',encoding='utf-8', index=False)\n",
    "    if i % 10 == 0:\n",
    "        print(f'The {i}th Time')\n",
    "    i += 1    \n",
    "end = datetime.now() -start\n",
    "\n",
    "print(f'Total time is: {end}')"
   ]
  }
 ],
 "metadata": {
  "kernelspec": {
   "display_name": "Python 3",
   "language": "python",
   "name": "python3"
  },
  "language_info": {
   "codemirror_mode": {
    "name": "ipython",
    "version": 3
   },
   "file_extension": ".py",
   "mimetype": "text/x-python",
   "name": "python",
   "nbconvert_exporter": "python",
   "pygments_lexer": "ipython3",
   "version": "3.7.6"
  }
 },
 "nbformat": 4,
 "nbformat_minor": 4
}
